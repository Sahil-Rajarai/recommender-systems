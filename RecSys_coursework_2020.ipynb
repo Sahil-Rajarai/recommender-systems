{
  "nbformat": 4,
  "nbformat_minor": 0,
  "metadata": {
    "colab": {
      "name": "RecSys coursework 2020.ipynb",
      "provenance": [],
      "collapsed_sections": [
        "SyvGgW_3ZjLV",
        "9UHoowtDrmmT",
        "k7d1WTzB4jjl",
        "XsoNjmQrtJi1",
        "hzRtMnG5Xa_r",
        "jtEA1bsXIvex"
      ],
      "include_colab_link": true
    },
    "kernelspec": {
      "name": "python3",
      "display_name": "Python 3"
    }
  },
  "cells": [
    {
      "cell_type": "markdown",
      "metadata": {
        "id": "view-in-github",
        "colab_type": "text"
      },
      "source": [
        "<a href=\"https://colab.research.google.com/github/Sahil-Rajarai/recommender-systems/blob/master/RecSys_coursework_2020.ipynb\" target=\"_parent\"><img src=\"https://colab.research.google.com/assets/colab-badge.svg\" alt=\"Open In Colab\"/></a>"
      ]
    },
    {
      "cell_type": "markdown",
      "metadata": {
        "id": "THQFNe3zdt1f",
        "colab_type": "text"
      },
      "source": [
        "# Assessed Coursework Template Notebook\n",
        "\n",
        "This is the template notebook for the RecSys(H) 2020 coursework. It deals with data preparation and evaluation only.\n",
        "\n",
        "Please note:\n",
        " - use H1 text headings for grouping together blocks of cells. You can then hide these while working on other blocks\n",
        " - leave the cell output visible when you submit the notebook\n",
        "\n"
      ]
    },
    {
      "cell_type": "markdown",
      "metadata": {
        "id": "Ww--_kl9-ndn",
        "colab_type": "text"
      },
      "source": [
        "## Setup block\n",
        "\n",
        "Setup the data files, Python etc."
      ]
    },
    {
      "cell_type": "code",
      "metadata": {
        "id": "iFgYpbhh0tkX",
        "colab_type": "code",
        "outputId": "9add355a-a68b-4acd-c0b3-c57bfbb342f7",
        "colab": {
          "base_uri": "https://localhost:8080/",
          "height": 221
        }
      },
      "source": [
        "!rm -rf ratings* books* to_read* test*\n",
        "\n",
        "!curl -o ratings.csv \"http://www.dcs.gla.ac.uk/~craigm/recsysH/coursework/final-ratings.csv\" \n",
        "!curl -o books.csv \"http://www.dcs.gla.ac.uk/~craigm/recsysH/coursework/final-books.csv\"\n",
        "!curl -o to_read.csv \"http://www.dcs.gla.ac.uk/~craigm/recsysH/coursework/final-to_read.csv\"\n",
        "!curl -o test.csv \"http://www.dcs.gla.ac.uk/~craigm/recsysH/coursework/final-test.csv\""
      ],
      "execution_count": 0,
      "outputs": [
        {
          "output_type": "stream",
          "text": [
            "  % Total    % Received % Xferd  Average Speed   Time    Time     Time  Current\n",
            "                                 Dload  Upload   Total   Spent    Left  Speed\n",
            "100 7631k  100 7631k    0     0  3592k      0  0:00:02  0:00:02 --:--:-- 3591k\n",
            "  % Total    % Received % Xferd  Average Speed   Time    Time     Time  Current\n",
            "                                 Dload  Upload   Total   Spent    Left  Speed\n",
            "100 2366k  100 2366k    0     0  1526k      0  0:00:01  0:00:01 --:--:-- 1525k\n",
            "  % Total    % Received % Xferd  Average Speed   Time    Time     Time  Current\n",
            "                                 Dload  Upload   Total   Spent    Left  Speed\n",
            "100 7581k  100 7581k    0     0  4140k      0  0:00:01  0:00:01 --:--:-- 4138k\n",
            "  % Total    % Received % Xferd  Average Speed   Time    Time     Time  Current\n",
            "                                 Dload  Upload   Total   Spent    Left  Speed\n",
            "100 1895k  100 1895k    0     0  1199k      0  0:00:01  0:00:01 --:--:-- 1199k\n"
          ],
          "name": "stdout"
        }
      ]
    },
    {
      "cell_type": "code",
      "metadata": {
        "id": "1VpVnNrZ1EiX",
        "colab_type": "code",
        "outputId": "8b57732b-44dd-4554-a7c3-428ddc9e70cb",
        "colab": {
          "base_uri": "https://localhost:8080/",
          "height": 71
        }
      },
      "source": [
        "#Standard setup\n",
        "import pandas as pd\n",
        "import numpy as np\n",
        "import torch\n",
        "!pip install git+https://github.com/cmacdonald/spotlight.git@master#egg=spotlight\n",
        "from spotlight.interactions import Interactions\n"
      ],
      "execution_count": 0,
      "outputs": [
        {
          "output_type": "stream",
          "text": [
            "Requirement already satisfied: spotlight from git+https://github.com/cmacdonald/spotlight.git@master#egg=spotlight in /usr/local/lib/python3.6/dist-packages (0.1.6)\n",
            "Requirement already satisfied: torch>=0.4.0 in /usr/local/lib/python3.6/dist-packages (from spotlight) (1.4.0)\n"
          ],
          "name": "stdout"
        }
      ]
    },
    {
      "cell_type": "markdown",
      "metadata": {
        "id": "RtJO0e0m-hun",
        "colab_type": "text"
      },
      "source": [
        "# data preparation"
      ]
    },
    {
      "cell_type": "code",
      "metadata": {
        "id": "qKAb25iw1MYw",
        "colab_type": "code",
        "colab": {}
      },
      "source": [
        "#load in the csv files\n",
        "ratings_df = pd.read_csv(\"ratings.csv\")\n",
        "books_df = pd.read_csv(\"books.csv\")\n",
        "to_read_df = pd.read_csv(\"to_read.csv\")\n",
        "test = pd.read_csv(\"test.csv\")"
      ],
      "execution_count": 0,
      "outputs": []
    },
    {
      "cell_type": "code",
      "metadata": {
        "id": "W6rqfn53OhDC",
        "colab_type": "code",
        "colab": {}
      },
      "source": [
        "#cut down the number of items and users\n",
        "counts=ratings_df[ratings_df[\"book_id\"] < 2000].groupby([\"book_id\"]).count().reset_index()\n",
        "valid_books=counts[counts[\"user_id\"] >= 10][[\"book_id\"]]\n",
        "\n",
        "books_df = books_df.merge(valid_books, on=\"book_id\")\n",
        "\n",
        "ratings_df = ratings_df[ratings_df[\"user_id\"] < 2000].merge(valid_books, on=\"book_id\")\n",
        "to_read_df = to_read_df[to_read_df[\"user_id\"] < 2000].merge(valid_books, on=\"book_id\")\n",
        "test = test[test[\"user_id\"] < 2000].merge(valid_books, on=\"book_id\")\n"
      ],
      "execution_count": 0,
      "outputs": []
    },
    {
      "cell_type": "markdown",
      "metadata": {
        "id": "C7cgXhmYUXIn",
        "colab_type": "text"
      },
      "source": [
        "Here we construct the Interactions objects from `ratings.csv`, `to_read.csv` and `test.csv`. We manually specify the num_users and num_items parameters to all Interaction objects, in case the test set differs from your training sets."
      ]
    },
    {
      "cell_type": "code",
      "metadata": {
        "id": "15ClgJOdTTt1",
        "colab_type": "code",
        "outputId": "ec19da4f-47ca-4003-d394-e76510115bfd",
        "colab": {
          "base_uri": "https://localhost:8080/",
          "height": 68
        }
      },
      "source": [
        "from collections import defaultdict\n",
        "from itertools import count\n",
        "\n",
        "from spotlight.cross_validation import random_train_test_split\n",
        "\n",
        "iid_map = defaultdict(count().__next__)\n",
        "\n",
        "\n",
        "rating_iids = np.array([iid_map[iid] for iid in ratings_df[\"book_id\"].values], dtype = np.int32)\n",
        "test_iids = np.array([iid_map[iid] for iid in test[\"book_id\"].values], dtype = np.int32)\n",
        "toread_iids = np.array([iid_map[iid] for iid in to_read_df[\"book_id\"].values], dtype = np.int32)\n",
        "\n",
        "\n",
        "uid_map = defaultdict(count().__next__)\n",
        "test_uids = np.array([uid_map[uid] for uid in test[\"user_id\"].values], dtype = np.int32)\n",
        "rating_uids = np.array([uid_map[uid] for uid in ratings_df[\"user_id\"].values], dtype = np.int32)\n",
        "toread_uids = np.array([uid_map[iid] for iid in to_read_df[\"user_id\"].values], dtype = np.int32)\n",
        "\n",
        "\n",
        "uid_rev_map = {v: k for k, v in uid_map.items()}\n",
        "iid_rev_map = {v: k for k, v in iid_map.items()}\n",
        "\n",
        "\n",
        "rating_dataset = Interactions(user_ids=rating_uids,\n",
        "                               item_ids=rating_iids,\n",
        "                               ratings=ratings_df[\"rating\"].values,\n",
        "                               num_users=len(uid_rev_map),\n",
        "                               num_items=len(iid_rev_map))\n",
        "\n",
        "toread_dataset = Interactions(user_ids=toread_uids,\n",
        "                               item_ids=toread_iids,\n",
        "                               num_users=len(uid_rev_map),\n",
        "                               num_items=len(iid_rev_map))\n",
        "\n",
        "test_dataset = Interactions(user_ids=test_uids,\n",
        "                               item_ids=test_iids,\n",
        "                               num_users=len(uid_rev_map),\n",
        "                               num_items=len(iid_rev_map))\n",
        "\n",
        "print(rating_dataset)\n",
        "print(toread_dataset)\n",
        "print(test_dataset)\n",
        "\n",
        "#here we define the validation set\n",
        "# toread_dataset_train, validation = random_train_test_split(toread_dataset, random_state=np.random.seed(42))\n",
        "toread_dataset_train, validation = random_train_test_split(toread_dataset, random_state=np.random.RandomState(42))\n",
        "\n",
        "\n",
        "num_items = test_dataset.num_items\n",
        "num_users = test_dataset.num_users"
      ],
      "execution_count": 0,
      "outputs": [
        {
          "output_type": "stream",
          "text": [
            "<Interactions dataset (1999 users x 1826 items x 124762 interactions)>\n",
            "<Interactions dataset (1999 users x 1826 items x 135615 interactions)>\n",
            "<Interactions dataset (1999 users x 1826 items x 33917 interactions)>\n"
          ],
          "name": "stdout"
        }
      ]
    },
    {
      "cell_type": "markdown",
      "metadata": {
        "id": "Kt4I2C5DTUL5",
        "colab_type": "text"
      },
      "source": [
        "#Example code\n",
        "\n",
        "To evaluate soem of your hand-implemented recommender systems (e.g. Q1, Q4), you will need to instantiate objects that match the specification of a Spotlight model, which `mrr_score()` expects.\n",
        "\n",
        "\n",
        "Here is an example recommender object that returns 0 for each item, regardless of user."
      ]
    },
    {
      "cell_type": "code",
      "metadata": {
        "id": "s2eaxy_hakbC",
        "colab_type": "code",
        "outputId": "156075d4-1878-47f3-aa52-81630f80f5ec",
        "colab": {
          "base_uri": "https://localhost:8080/",
          "height": 34
        }
      },
      "source": [
        "from spotlight.evaluation import mrr_score\n",
        "\n",
        "\n",
        "class dummymodel:\n",
        "  \n",
        "  def __init__(self, numitems):\n",
        "    self.predictions=np.zeros(numitems)\n",
        "  \n",
        "  #uid is the user we are requesting recommendations for;\n",
        "  #returns an array of scores, one for each item\n",
        "  def predict(self, uid):\n",
        "    #this model returns all zeros, regardless of userid\n",
        "    return( self.predictions )\n",
        "\n",
        "#lets evaluate how the effeciveness of dummymodel\n",
        "\n",
        "print(mrr_score(dummymodel(num_items), test_dataset, train=rating_dataset, k=100).mean())\n",
        "#as expected, a recommendation model that gives 0 scores for all items obtains a MRR score of 0\n",
        "\n"
      ],
      "execution_count": 0,
      "outputs": [
        {
          "output_type": "stream",
          "text": [
            "0.0\n"
          ],
          "name": "stdout"
        }
      ]
    },
    {
      "cell_type": "code",
      "metadata": {
        "id": "ZQTJOmS5dB3i",
        "colab_type": "code",
        "outputId": "51a9ee4b-7119-4cb5-aed0-46910316c8be",
        "colab": {
          "base_uri": "https://localhost:8080/",
          "height": 51
        }
      },
      "source": [
        "\n",
        "#note that the latest copy of Craig's Spotlight displays a progress bar if you set verbose=True\n",
        "print(mrr_score(dummymodel(num_items), test_dataset, train=rating_dataset, k=100, verbose=True).mean())\n"
      ],
      "execution_count": 0,
      "outputs": [
        {
          "output_type": "stream",
          "text": [
            "1999it [00:00, 2942.56it/s]"
          ],
          "name": "stderr"
        },
        {
          "output_type": "stream",
          "text": [
            "0.0\n"
          ],
          "name": "stdout"
        },
        {
          "output_type": "stream",
          "text": [
            "\n"
          ],
          "name": "stderr"
        }
      ]
    },
    {
      "cell_type": "markdown",
      "metadata": {
        "id": "SyvGgW_3ZjLV",
        "colab_type": "text"
      },
      "source": [
        "#Q1\n",
        "\n",
        "You should create one block for each question"
      ]
    },
    {
      "cell_type": "code",
      "metadata": {
        "id": "8LAtBH1ThL2W",
        "colab_type": "code",
        "outputId": "0394f711-398a-475e-d959-c3b93f8933cb",
        "colab": {
          "base_uri": "https://localhost:8080/",
          "height": 34
        }
      },
      "source": [
        "#Average rating, obtained from ratings.csv\n",
        "#use sort=false so as to get the book id instead of 0,1,2...\n",
        "\n",
        "class averageRating:\n",
        "  def __init__(self, numitems):\n",
        "      self.predictions = np.array(ratings_df.groupby([\"book_id\"], sort=False).mean()['rating'])\n",
        "\n",
        "  def predict(self, uid):\n",
        "    return( self.predictions )\n",
        "\n",
        "#calculate mmr score\n",
        "print(mrr_score(averageRating(num_items), test_dataset, train=rating_dataset, k=100).mean())"
      ],
      "execution_count": 0,
      "outputs": [
        {
          "output_type": "stream",
          "text": [
            "0.015052024168984034\n"
          ],
          "name": "stdout"
        }
      ]
    },
    {
      "cell_type": "code",
      "metadata": {
        "id": "jqugiQPxn2a_",
        "colab_type": "code",
        "colab": {}
      },
      "source": [
        "#construct a dictionary to put the actual book id and their rating counts\n",
        "rating_counts = np.array(books_df['ratings_count'])\n",
        "book_id = np.array(books_df['book_id'])\n",
        "book_rating = np.zeros(num_items)\n",
        "for i in range (len(book_id)) :\n",
        "  curr_id = iid_map.get(book_id[i])\n",
        "  book_rating[curr_id] = rating_counts[i]"
      ],
      "execution_count": 0,
      "outputs": []
    },
    {
      "cell_type": "code",
      "metadata": {
        "id": "uRNzMYHNh0fF",
        "colab_type": "code",
        "outputId": "91762e00-b473-4470-fa9e-0b5916ec54b4",
        "colab": {
          "base_uri": "https://localhost:8080/",
          "height": 34
        }
      },
      "source": [
        "#Number of ratings, obtained from books.csv (column ratings_count)\n",
        "class numRatings :\n",
        "\n",
        "  def __init__(self, numitems):       \n",
        "      self.predictions = book_rating\n",
        "\n",
        "  def predict(self, uid):\n",
        "    return( self.predictions )\n",
        "\n",
        "#calculate mmr score\n",
        "print(mrr_score(numRatings(num_items), test_dataset, train=rating_dataset, k=100).mean())\n"
      ],
      "execution_count": 0,
      "outputs": [
        {
          "output_type": "stream",
          "text": [
            "0.2396001188245477\n"
          ],
          "name": "stdout"
        }
      ]
    },
    {
      "cell_type": "code",
      "metadata": {
        "id": "OGSzc08loHmg",
        "colab_type": "code",
        "colab": {}
      },
      "source": [
        " #construct a dictionary to put the actual book id and their Number of 5* ratings\n",
        "rating_5 = np.array(books_df['ratings_5'])\n",
        "book_id = np.array(books_df['book_id'])\n",
        "book_rating_5 = np.zeros(num_items)\n",
        "for i in range (len(book_id)) :\n",
        "  curr_id = iid_map.get(book_id[i])\n",
        "  book_rating_5[curr_id] = rating_5[i]"
      ],
      "execution_count": 0,
      "outputs": []
    },
    {
      "cell_type": "code",
      "metadata": {
        "id": "7b-XsvmSjJWp",
        "colab_type": "code",
        "outputId": "8397b813-c3c8-4ec4-cc9b-030f8c84b041",
        "colab": {
          "base_uri": "https://localhost:8080/",
          "height": 34
        }
      },
      "source": [
        "#Number of 5* ratings, obtained from books.csv\n",
        "\n",
        "class numFiveStars :\n",
        "\n",
        "  def __init__(self):\n",
        "      self.predictions = book_rating_5\n",
        "\n",
        "  def predict(self, uid):\n",
        "    return( self.predictions )\n",
        "\n",
        "#calculate mmr score\n",
        "print(mrr_score(numFiveStars(), test_dataset, train=rating_dataset, k=100).mean())"
      ],
      "execution_count": 0,
      "outputs": [
        {
          "output_type": "stream",
          "text": [
            "0.2409670879930144\n"
          ],
          "name": "stdout"
        }
      ]
    },
    {
      "cell_type": "code",
      "metadata": {
        "id": "JjaKf1qhj7bc",
        "colab_type": "code",
        "outputId": "1e3ae165-2a6c-434c-b739-464574a6fa40",
        "colab": {
          "base_uri": "https://localhost:8080/",
          "height": 34
        }
      },
      "source": [
        "#Fraction of 5* ratings, calculated from the two evidence above\n",
        "\n",
        "class fractionFiveStars :\n",
        "  \n",
        "  def __init__(self):\n",
        "      self.predictions = book_rating_5/book_rating\n",
        "\n",
        "  def predict(self, uid):\n",
        "    return( self.predictions )\n",
        "\n",
        "print(mrr_score(fractionFiveStars(), test_dataset, train=rating_dataset, k=100).mean())"
      ],
      "execution_count": 0,
      "outputs": [
        {
          "output_type": "stream",
          "text": [
            "0.03415267465103555\n"
          ],
          "name": "stdout"
        }
      ]
    },
    {
      "cell_type": "markdown",
      "metadata": {
        "id": "9UHoowtDrmmT",
        "colab_type": "text"
      },
      "source": [
        "#Q2\n"
      ]
    },
    {
      "cell_type": "code",
      "metadata": {
        "id": "oycNkEHYrr9c",
        "colab_type": "code",
        "outputId": "1085792d-b414-4739-abb9-6ef900563102",
        "colab": {
          "base_uri": "https://localhost:8080/",
          "height": 459
        }
      },
      "source": [
        "from spotlight.factorization.explicit import ExplicitFactorizationModel\n",
        "from spotlight.factorization.implicit import ImplicitFactorizationModel\n",
        "\n",
        "#ExplicitFactorizationModel\n",
        "latent_factors = [8, 16, 32, 64]\n",
        "best_score_explicit = 0\n",
        "best_model_Explicit = 0\n",
        "best_latent_factor_explicit = 0\n",
        "\n",
        "#loop through latent_factors and use the validation set to find the maximise MRR\n",
        "for i in latent_factors :\n",
        "  print('Latent factor ', str(i))\n",
        "  emodel = ExplicitFactorizationModel(n_iter=5, random_state=np.random.RandomState(1), embedding_dim=i, use_cuda=False)              \n",
        "  emodel.fit(rating_dataset, verbose=True)\n",
        "  score = mrr_score(emodel, validation, train=rating_dataset, k=100).mean()\n",
        "  if score >= best_score_explicit :\n",
        "    best_score_explicit = score\n",
        "    best_latent_factor_explicit = i\n",
        "    best_model_Explicit = emodel\n",
        "\n",
        "#Evaluate the best model in terms of MRR using the provided test data\n",
        "print('best latent factor for ExplicitFactorizationModel is ', best_latent_factor_explicit)\n",
        "print('best model in terms of MRR ',  mrr_score(best_model_Explicit, test_dataset, train=rating_dataset, k=100).mean())"
      ],
      "execution_count": 0,
      "outputs": [
        {
          "output_type": "stream",
          "text": [
            "Latent factor  8\n",
            "Epoch 0: loss 5.546910882484718\n",
            "Epoch 1: loss 0.8069540473525642\n",
            "Epoch 2: loss 0.7444186094598692\n",
            "Epoch 3: loss 0.7016327472739532\n",
            "Epoch 4: loss 0.6687415688008559\n",
            "Latent factor  16\n",
            "Epoch 0: loss 4.50729059134839\n",
            "Epoch 1: loss 0.7876759265534213\n",
            "Epoch 2: loss 0.6983933953232453\n",
            "Epoch 3: loss 0.63182490025876\n",
            "Epoch 4: loss 0.5818731948489049\n",
            "Latent factor  32\n",
            "Epoch 0: loss 3.9730885583357733\n",
            "Epoch 1: loss 0.7902639296944024\n",
            "Epoch 2: loss 0.6297312552323107\n",
            "Epoch 3: loss 0.5185502647865013\n",
            "Epoch 4: loss 0.446325780854362\n",
            "Latent factor  64\n",
            "Epoch 0: loss 3.4746042099155363\n",
            "Epoch 1: loss 0.7811282048704195\n",
            "Epoch 2: loss 0.5363745120216589\n",
            "Epoch 3: loss 0.41745556347438545\n",
            "Epoch 4: loss 0.3746082321664349\n",
            "best latent factor for ExplicitFactorizationModel is  32\n",
            "best model in terms of MRR  0.05502920579265286\n"
          ],
          "name": "stdout"
        }
      ]
    },
    {
      "cell_type": "code",
      "metadata": {
        "id": "fSFD822a3AYh",
        "colab_type": "code",
        "outputId": "4840801a-cf36-45b8-fcd2-bf789984417c",
        "colab": {
          "base_uri": "https://localhost:8080/",
          "height": 459
        }
      },
      "source": [
        "#ImplicitFactorizationModel\n",
        "best_score_implicit = 0\n",
        "best_model_implicit = 0\n",
        "best_latent_factor_implicit = 0\n",
        "\n",
        "#loop through latent_factors and use the validation set to find the maximise MRR\n",
        "for i in latent_factors :\n",
        "  print('Latent factor ', str(i))\n",
        "  imodel = ImplicitFactorizationModel(n_iter=5,random_state=np.random.RandomState(1),embedding_dim=i,loss='bpr',use_cuda=False)\n",
        "  imodel.fit(rating_dataset, verbose=True)\n",
        "  score = mrr_score(imodel, validation, train=rating_dataset, k=100).mean()\n",
        "  if(score > best_score_implicit) :\n",
        "    best_score_implicit = score\n",
        "    best_latent_factor_implicit = i\n",
        "    best_model_implicit = imodel\n",
        "\n",
        "#Evaluate the best model in terms of MRR using the provided test data\n",
        "print('best latent factor for ImplicitFactorizationModel is ', best_latent_factor_implicit)\n",
        "print('best model in terms of MRR ',  mrr_score(best_model_implicit, test_dataset, train=rating_dataset, k=100).mean())"
      ],
      "execution_count": 0,
      "outputs": [
        {
          "output_type": "stream",
          "text": [
            "Latent factor  8\n",
            "Epoch 0: loss 0.3800143991581729\n",
            "Epoch 1: loss 0.226812304043379\n",
            "Epoch 2: loss 0.1765885273086243\n",
            "Epoch 3: loss 0.15752846656031297\n",
            "Epoch 4: loss 0.14882757948314557\n",
            "Latent factor  16\n",
            "Epoch 0: loss 0.3444690479301527\n",
            "Epoch 1: loss 0.19967963949578707\n",
            "Epoch 2: loss 0.16321104065683045\n",
            "Epoch 3: loss 0.1465598158996369\n",
            "Epoch 4: loss 0.1378573360929235\n",
            "Latent factor  32\n",
            "Epoch 0: loss 0.32365596205851094\n",
            "Epoch 1: loss 0.1852227891260972\n",
            "Epoch 2: loss 0.15285226719484465\n",
            "Epoch 3: loss 0.13484459292510007\n",
            "Epoch 4: loss 0.12610292912567736\n",
            "Latent factor  64\n",
            "Epoch 0: loss 0.3059170442160036\n",
            "Epoch 1: loss 0.16935962159186602\n",
            "Epoch 2: loss 0.13890057457152938\n",
            "Epoch 3: loss 0.12148511840305368\n",
            "Epoch 4: loss 0.11332039408324683\n",
            "best latent factor for ImplicitFactorizationModel is  16\n",
            "best model in terms of MRR  0.3887596323416617\n"
          ],
          "name": "stdout"
        }
      ]
    },
    {
      "cell_type": "code",
      "metadata": {
        "id": "G1nZ_-mN4Rfp",
        "colab_type": "code",
        "colab": {}
      },
      "source": [
        "#store the best model\n",
        "best_model_Q2 = best_model_implicit"
      ],
      "execution_count": 0,
      "outputs": []
    },
    {
      "cell_type": "markdown",
      "metadata": {
        "id": "k7d1WTzB4jjl",
        "colab_type": "text"
      },
      "source": [
        "#Q3"
      ]
    },
    {
      "cell_type": "code",
      "metadata": {
        "id": "g0Iwbi314oMm",
        "colab_type": "code",
        "outputId": "cc51c8c9-3782-423d-86ba-5efcc9872baf",
        "colab": {
          "base_uri": "https://localhost:8080/",
          "height": 442
        }
      },
      "source": [
        "#ImplicitFactorizationModel on the implicit training data\n",
        "scoreQ3 = 0\n",
        "best_model_Q3 = 0\n",
        "best_latent_factor_Q3 = 0\n",
        "\n",
        "for i in latent_factors :\n",
        "  print('Latent factor ', str(i))\n",
        "  imodel = ImplicitFactorizationModel(n_iter=5,embedding_dim=i,random_state=np.random.RandomState(1),loss='bpr',use_cuda=False)\n",
        "  imodel.fit(toread_dataset_train, verbose=True)\n",
        "  score = mrr_score(imodel, validation, train=toread_dataset_train, k=100).mean()\n",
        "  if score > scoreQ3 :\n",
        "    scoreQ3 = score\n",
        "    best_latent_factor_Q3 = i\n",
        "    best_model_Q3 = imodel\n",
        "\n",
        "# Evaluate the final model in terms of MRR using the provided test data\n",
        "print('Best model in terms of MRR ',  mrr_score(best_model_Q3, test_dataset, train=rating_dataset, k=100).mean())"
      ],
      "execution_count": 0,
      "outputs": [
        {
          "output_type": "stream",
          "text": [
            "Latent factor  8\n",
            "Epoch 0: loss 0.39337800112816523\n",
            "Epoch 1: loss 0.24179184918274294\n",
            "Epoch 2: loss 0.19207951633857107\n",
            "Epoch 3: loss 0.17463349203034392\n",
            "Epoch 4: loss 0.16280447224260503\n",
            "Latent factor  16\n",
            "Epoch 0: loss 0.35834955793084966\n",
            "Epoch 1: loss 0.2094157070694667\n",
            "Epoch 2: loss 0.17453473395193522\n",
            "Epoch 3: loss 0.15932149856509464\n",
            "Epoch 4: loss 0.14717754435215918\n",
            "Latent factor  32\n",
            "Epoch 0: loss 0.3424184679774181\n",
            "Epoch 1: loss 0.19521144282002495\n",
            "Epoch 2: loss 0.16036324589601103\n",
            "Epoch 3: loss 0.14363892933459216\n",
            "Epoch 4: loss 0.1304559223529584\n",
            "Latent factor  64\n",
            "Epoch 0: loss 0.32598371304712204\n",
            "Epoch 1: loss 0.18099869759577625\n",
            "Epoch 2: loss 0.14648431298797424\n",
            "Epoch 3: loss 0.1284485306098776\n",
            "Epoch 4: loss 0.11467573814586086\n",
            "Best model in terms of MRR  0.39064620076019624\n"
          ],
          "name": "stdout"
        }
      ]
    },
    {
      "cell_type": "code",
      "metadata": {
        "id": "xgD3aiCY98Vm",
        "colab_type": "code",
        "outputId": "35526cfc-0140-437b-b779-ee35064fbcc5",
        "colab": {
          "base_uri": "https://localhost:8080/",
          "height": 221
        }
      },
      "source": [
        "import scipy.stats as st\n",
        "# userids for which the system attained the highest RR score\n",
        "def countRatings(uid, rr):\n",
        "  print(\"User with id %d with highest RR %f\" %( uid, rr))\n",
        "\n",
        "rrs = mrr_score(best_model_Q3, test_dataset, train=rating_dataset, k=100)\n",
        "RR_ranks = st.rankdata(-rrs, method='min')\n",
        "countRatings( np.argwhere(RR_ranks==1).item(0), rrs[RR_ranks==1].item(0) )\n",
        "x = st.rankdata(-best_model_Q3.predict(np.argwhere(RR_ranks==1).item(0)),method='min')\n",
        "bookIdlst = []\n",
        "#get the top five books\n",
        "top_five = [a.item(0) for a in np.argwhere(x<=5)]\n",
        "print(top_five)\n",
        "\n",
        "for i in range(len(top_five)) :\n",
        "  #get the book id and the title\n",
        "  bookId = iid_rev_map[top_five[i]]\n",
        "  bookIdlst.append(bookId)\n",
        "  print(books_df[books_df.book_id == bookId]['title'])\n",
        "\n",
        "# y = iid_rev_map[24]\n",
        "# print('sas', y)\n",
        "# print('sas', books_df[(books_df['book_id'] == y)]['title'])"
      ],
      "execution_count": 0,
      "outputs": [
        {
          "output_type": "stream",
          "text": [
            "User with id 1 with highest RR 1.000000\n",
            "[21, 23, 24, 34, 52]\n",
            "4    The Great Gatsby\n",
            "Name: title, dtype: object\n",
            "7    The Catcher in the Rye\n",
            "Name: title, dtype: object\n",
            "64    Slaughterhouse-Five\n",
            "Name: title, dtype: object\n",
            "54    Brave New World\n",
            "Name: title, dtype: object\n",
            "27    Lord of the Flies\n",
            "Name: title, dtype: object\n"
          ],
          "name": "stdout"
        }
      ]
    },
    {
      "cell_type": "code",
      "metadata": {
        "id": "BvO1yl6EtVOy",
        "colab_type": "code",
        "outputId": "738d747f-5150-4f33-cd4a-7474290ede5d",
        "colab": {
          "base_uri": "https://localhost:8080/",
          "height": 34
        }
      },
      "source": [
        "bookIdlst"
      ],
      "execution_count": 0,
      "outputs": [
        {
          "output_type": "execute_result",
          "data": {
            "text/plain": [
              "[5, 8, 65, 55, 28]"
            ]
          },
          "metadata": {
            "tags": []
          },
          "execution_count": 74
        }
      ]
    },
    {
      "cell_type": "code",
      "metadata": {
        "id": "In6n3jZArbrz",
        "colab_type": "code",
        "outputId": "9cffd5c0-30d2-4f28-bf54-3099f0ae66e8",
        "colab": {
          "base_uri": "https://localhost:8080/",
          "height": 49
        }
      },
      "source": [
        "#check if recommended books are already shelved by the user\n",
        "toread = to_read_df[(to_read_df[\"user_id\"] == 1)  & (to_read_df[\"book_id\"].isin(bookIdlst))]\n",
        "toread"
      ],
      "execution_count": 0,
      "outputs": [
        {
          "output_type": "execute_result",
          "data": {
            "text/html": [
              "<div>\n",
              "<style scoped>\n",
              "    .dataframe tbody tr th:only-of-type {\n",
              "        vertical-align: middle;\n",
              "    }\n",
              "\n",
              "    .dataframe tbody tr th {\n",
              "        vertical-align: top;\n",
              "    }\n",
              "\n",
              "    .dataframe thead th {\n",
              "        text-align: right;\n",
              "    }\n",
              "</style>\n",
              "<table border=\"1\" class=\"dataframe\">\n",
              "  <thead>\n",
              "    <tr style=\"text-align: right;\">\n",
              "      <th></th>\n",
              "      <th>Unnamed: 0</th>\n",
              "      <th>user_id</th>\n",
              "      <th>book_id</th>\n",
              "    </tr>\n",
              "  </thead>\n",
              "  <tbody>\n",
              "  </tbody>\n",
              "</table>\n",
              "</div>"
            ],
            "text/plain": [
              "Empty DataFrame\n",
              "Columns: [Unnamed: 0, user_id, book_id]\n",
              "Index: []"
            ]
          },
          "metadata": {
            "tags": []
          },
          "execution_count": 75
        }
      ]
    },
    {
      "cell_type": "code",
      "metadata": {
        "id": "YqUFV9-6Wmn-",
        "colab_type": "code",
        "outputId": "98a52c48-525a-4830-9956-72ce21bc8b25",
        "colab": {
          "base_uri": "https://localhost:8080/",
          "height": 419
        }
      },
      "source": [
        "#get all books that have been previously shelved\n",
        "toread = to_read_df[(to_read_df[\"user_id\"] == 1)]\n",
        "previouslyShelved = toread['book_id']\n",
        "previouslyShelvedTitle = books_df[books_df.book_id.isin(previouslyShelved)]\n",
        "previouslyShelvedTitle[[\"book_id\", \"title\"]]\n",
        "\n"
      ],
      "execution_count": 0,
      "outputs": [
        {
          "output_type": "execute_result",
          "data": {
            "text/html": [
              "<div>\n",
              "<style scoped>\n",
              "    .dataframe tbody tr th:only-of-type {\n",
              "        vertical-align: middle;\n",
              "    }\n",
              "\n",
              "    .dataframe tbody tr th {\n",
              "        vertical-align: top;\n",
              "    }\n",
              "\n",
              "    .dataframe thead th {\n",
              "        text-align: right;\n",
              "    }\n",
              "</style>\n",
              "<table border=\"1\" class=\"dataframe\">\n",
              "  <thead>\n",
              "    <tr style=\"text-align: right;\">\n",
              "      <th></th>\n",
              "      <th>book_id</th>\n",
              "      <th>title</th>\n",
              "    </tr>\n",
              "  </thead>\n",
              "  <tbody>\n",
              "    <tr>\n",
              "      <th>9</th>\n",
              "      <td>10</td>\n",
              "      <td>Pride and Prejudice</td>\n",
              "    </tr>\n",
              "    <tr>\n",
              "      <th>10</th>\n",
              "      <td>11</td>\n",
              "      <td>The Kite Runner</td>\n",
              "    </tr>\n",
              "    <tr>\n",
              "      <th>12</th>\n",
              "      <td>13</td>\n",
              "      <td>1984</td>\n",
              "    </tr>\n",
              "    <tr>\n",
              "      <th>15</th>\n",
              "      <td>16</td>\n",
              "      <td>The Girl with the Dragon Tattoo (Millennium, #1)</td>\n",
              "    </tr>\n",
              "    <tr>\n",
              "      <th>21</th>\n",
              "      <td>22</td>\n",
              "      <td>The Lovely Bones</td>\n",
              "    </tr>\n",
              "    <tr>\n",
              "      <th>...</th>\n",
              "      <td>...</td>\n",
              "      <td>...</td>\n",
              "    </tr>\n",
              "    <tr>\n",
              "      <th>1429</th>\n",
              "      <td>1521</td>\n",
              "      <td>Antigone (The Theban Plays, #3)</td>\n",
              "    </tr>\n",
              "    <tr>\n",
              "      <th>1541</th>\n",
              "      <td>1644</td>\n",
              "      <td>Peace Like a River</td>\n",
              "    </tr>\n",
              "    <tr>\n",
              "      <th>1636</th>\n",
              "      <td>1761</td>\n",
              "      <td>Moonwalking with Einstein: The Art and Science...</td>\n",
              "    </tr>\n",
              "    <tr>\n",
              "      <th>1662</th>\n",
              "      <td>1796</td>\n",
              "      <td>Gilead (Gilead, #1)</td>\n",
              "    </tr>\n",
              "    <tr>\n",
              "      <th>1726</th>\n",
              "      <td>1874</td>\n",
              "      <td>The Aviator's Wife</td>\n",
              "    </tr>\n",
              "  </tbody>\n",
              "</table>\n",
              "<p>84 rows × 2 columns</p>\n",
              "</div>"
            ],
            "text/plain": [
              "      book_id                                              title\n",
              "9          10                                Pride and Prejudice\n",
              "10         11                                    The Kite Runner\n",
              "12         13                                               1984\n",
              "15         16   The Girl with the Dragon Tattoo (Millennium, #1)\n",
              "21         22                                   The Lovely Bones\n",
              "...       ...                                                ...\n",
              "1429     1521                    Antigone (The Theban Plays, #3)\n",
              "1541     1644                                 Peace Like a River\n",
              "1636     1761  Moonwalking with Einstein: The Art and Science...\n",
              "1662     1796                                Gilead (Gilead, #1)\n",
              "1726     1874                                 The Aviator's Wife\n",
              "\n",
              "[84 rows x 2 columns]"
            ]
          },
          "metadata": {
            "tags": []
          },
          "execution_count": 76
        }
      ]
    },
    {
      "cell_type": "code",
      "metadata": {
        "id": "9b9aXooXtdEO",
        "colab_type": "code",
        "colab": {}
      },
      "source": [
        "from itertools import combinations\n",
        "import torch.nn as nn\n",
        "#Intra-list diversity measure of the top 5 scored items based on their item embeddings.\n",
        "def calculateILD(model, i) :\n",
        "  ranks = st.rankdata(-model.predict(i-1))\n",
        "  #get the top five items\n",
        "  top_five = np.array([i for i in np.argwhere(ranks<=5)])\n",
        "  #get every pair of the item in the topFive items\n",
        "  comb = list(combinations(top_five, 2))\n",
        "  diversity = np.zeros(len(comb))\n",
        "\n",
        "  for i in range(len(comb)) :\n",
        "    diversity[i] = 1 - nn.functional.cosine_similarity(\n",
        "                  model._net.item_embeddings.weight[comb[i][0][0]], \n",
        "                  model._net.item_embeddings.weight[comb[i][1][0]], dim=0)\n",
        "  \n",
        "  return 0.1 * sum(diversity)\n",
        "\n",
        "ildScore = []\n",
        "#for each item calculate it's ILD\n",
        "for i in uid_rev_map.values() :\n",
        "  ildScore.append(calculateILD(best_model_Q3, i))\n"
      ],
      "execution_count": 0,
      "outputs": []
    },
    {
      "cell_type": "code",
      "metadata": {
        "id": "weApQ77i_q3K",
        "colab_type": "code",
        "outputId": "6afdbdad-53b9-4101-a052-dc3cadda9c03",
        "colab": {
          "base_uri": "https://localhost:8080/",
          "height": 54
        }
      },
      "source": [
        "print(ildScore)\n",
        "# print( uid_rev_map)"
      ],
      "execution_count": 0,
      "outputs": [
        {
          "output_type": "stream",
          "text": [
            "[0.123780757188797, 0.09203549623489381, 0.11114448308944702, 0.37813144326210024, 0.39854170680046086, 0.21607269048690797, 0.12481814622879028, 0.17360926866531373, 0.15498209595680237, 0.44603830575942993, 0.12704830169677736, 0.1286530375480652, 0.3357165932655335, 0.16736528277397156, 0.20773741006851199, 0.13867965936660767, 0.20824249386787416, 0.08737109899520874, 0.123780757188797, 0.16539925932884217, 0.14782973527908325, 0.123780757188797, 0.21361634731292725, 0.10643221139907838, 0.12067505717277527, 0.17637735605239868, 0.3162829756736756, 0.12040197253227235, 0.11624088287353516, 0.21695964336395265, 0.1201159417629242, 0.09502882361412049, 0.16333256959915163, 0.15862821340560915, 0.16193495392799379, 0.10450725555419922, 0.25841816067695617, 0.15319015979766848, 0.5085619449615478, 0.10089231729507447, 0.11624088287353516, 0.3028695821762085, 0.46007296442985535, 0.31480739116668705, 0.09502882361412049, 0.15256068110466003, 0.2796943187713623, 0.13614816069602967, 0.15794706344604492, 0.32293617725372314, 0.1997831702232361, 0.19227190613746645, 0.10162479281425477, 0.1924820840358734, 0.08987614512443542, 0.28032748103141786, 0.2338767647743225, 0.10689539909362794, 0.2914368987083435, 0.1432157337665558, 0.26257120370864867, 0.19213139414787295, 0.20760015845298768, 0.3411663353443146, 0.30536283850669865, 0.1559921979904175, 0.15900101065635683, 0.23095937967300417, 0.3482142567634583, 0.09708347916603088, 0.14575862884521484, 0.08277583122253418, 0.25084956288337706, 0.12312563061714173, 0.1317605197429657, 0.15319015979766848, 0.2476265549659729, 0.09502882361412049, 0.2742621719837189, 0.11900160908699037, 0.10087913870811463, 0.14573945403099062, 0.10778281688690186, 0.23171300888061525, 0.2556571960449219, 0.24904179573059082, 0.1978612780570984, 0.24910554885864258, 0.09706233143806459, 0.10087913870811463, 0.15319015979766848, 0.134680312871933, 0.12572309970855713, 0.1432157337665558, 0.15875389575958254, 0.25228435397148136, 0.16654877662658693, 0.1883608102798462, 0.3303268611431122, 0.4869701862335205, 0.27035824060440067, 0.2612771987915039, 0.16333256959915163, 0.12650197744369507, 0.11624088287353516, 0.3688477396965027, 0.10913687944412231, 0.3675622701644898, 0.18792815804481508, 0.24102219343185427, 0.1286530375480652, 0.15368027687072755, 0.07170899510383606, 0.28789844512939455, 0.16226747632026672, 0.15498209595680237, 0.42072045207023623, 0.16380202770233154, 0.25686257481575014, 0.5606624186038971, 0.10913687944412231, 0.1444744944572449, 0.1206945538520813, 0.18123436570167542, 0.24501437544822693, 0.22601797580718996, 0.1318602204322815, 0.4440074741840363, 0.319006085395813, 0.13888317942619324, 0.21082520484924316, 0.15498209595680237, 0.09502882361412049, 0.08466466069221497, 0.1432157337665558, 0.12601797580718996, 0.13035376071929933, 0.1881278693675995, 0.133213073015213, 0.11611125469207764, 0.21637046337127686, 0.07994542121887208, 0.1172761082649231, 0.2978448629379273, 0.1651162087917328, 0.39512038230895996, 0.1437062382698059, 0.19635163545608522, 0.146399587392807, 0.3369166851043701, 0.130586576461792, 0.10162479281425477, 0.11893345117568971, 0.08486036062240601, 0.42944806814193726, 0.29610522389411925, 0.3729837238788605, 0.15646442770957947, 0.09203549623489381, 0.2197414577007294, 0.2760397791862488, 0.15862821340560915, 0.10170052647590638, 0.1116014301776886, 0.10913687944412231, 0.11507512331008912, 0.13851233124732973, 0.12540673017501833, 0.1253492534160614, 0.26937296986579895, 0.23095937967300417, 0.13015920519828797, 0.09203549623489381, 0.23095937967300417, 0.10087913870811463, 0.28789844512939455, 0.12777955532073976, 0.17043456435203552, 0.12689343690872193, 0.29741740822792057, 0.1870818376541138, 0.23945255875587465, 0.1305772602558136, 0.3197163164615631, 0.13223960995674133, 0.32792199254035953, 0.13610430359840395, 0.10089231729507447, 0.19875818490982056, 0.15193498730659485, 0.11204745769500733, 0.24489295482635498, 0.10279670953750611, 0.17069562673568728, 0.10388071537017823, 0.1550195872783661, 0.32126206755638126, 0.27067567110061647, 0.09575972557067872, 0.13867300152778625, 0.44805199503898624, 0.13030891418457033, 0.16226747632026672, 0.10829671621322633, 0.10065688490867615, 0.11886667013168335, 0.16220401525497438, 0.10333492755889893, 0.10335873365402222, 0.1740513861179352, 0.10970494151115417, 0.23254285454750062, 0.10061779022216798, 0.10162479281425477, 0.27177746295928956, 0.14583024382591248, 0.31888642311096194, 0.12048528790473939, 0.25861467719078063, 0.2507628619670868, 0.2097169876098633, 0.1936513125896454, 0.1886329710483551, 0.12650331258773803, 0.08381013870239258, 0.10162479281425477, 0.07969979643821717, 0.13419660925865173, 0.15862821340560915, 0.2587890326976776, 0.10758134126663209, 0.3413527250289917, 0.09405463337898255, 0.24236814975738527, 0.2704553544521332, 0.3336634397506714, 0.14536308646202087, 0.1539647936820984, 0.21524048447608948, 0.16333256959915163, 0.3254038095474243, 0.17635295391082764, 0.17980991005897523, 0.07994542121887208, 0.5802960276603699, 0.3769531130790711, 0.10913687944412231, 0.08869739770889283, 0.45183661580085754, 0.17637735605239868, 0.3015674352645874, 0.09708347916603088, 0.09525006413459779, 0.3012470006942749, 0.08277583122253418, 0.21435768604278566, 0.1915285885334015, 0.08950629830360413, 0.120947927236557, 0.11624088287353516, 0.12777955532073976, 0.1012208104133606, 0.22967061400413513, 0.23685956001281738, 0.23368712663650515, 0.16193495392799379, 0.4219680428504944, 0.21890725493431093, 0.22728189229965212, 0.2663827955722809, 0.2640342175960541, 0.10823560357093812, 0.12704830169677736, 0.10065688490867615, 0.3777432441711426, 0.13067656755447388, 0.605122298002243, 0.10713996291160584, 0.2866075873374939, 0.5572420179843903, 0.07684451341629028, 0.11046443581581117, 0.120947927236557, 0.1432157337665558, 0.19456596970558168, 0.30199135541915895, 0.08486036062240601, 0.12704830169677736, 0.14321060180664064, 0.12070452570915223, 0.13851233124732973, 0.213025963306427, 0.08490536212921143, 0.08873385190963745, 0.45840296745300296, 0.09278572201728821, 0.13416797518730164, 0.17085522413253784, 0.120947927236557, 0.21783730387687683, 0.22147353291511537, 0.47245538830757144, 0.12210119366645814, 0.14823561310768127, 0.32746586203575134, 0.24097964763641358, 0.123780757188797, 0.123780757188797, 0.40902214050292973, 0.10170052647590638, 0.22871981859207155, 0.11748777627944947, 0.1679553270339966, 0.3898900091648102, 0.27807657122612, 0.12777955532073976, 0.2978448629379273, 0.34812294840812685, 0.30964922308921816, 0.10087913870811463, 0.1780964434146881, 0.0945949137210846, 0.13820534348487853, 0.12491554617881775, 0.15344884991645813, 0.16193495392799379, 0.10535421967506409, 0.14211995005607606, 0.24445439577102662, 0.10087913870811463, 0.35288748741149906, 0.08987614512443542, 0.1559921979904175, 0.19390785694122314, 0.10535421967506409, 0.10571454167366029, 0.15498209595680237, 0.27180734276771545, 0.2390422224998474, 0.2014227867126465, 0.14382701516151428, 0.2662383496761322, 0.1827941358089447, 0.1883608102798462, 0.13820534348487853, 0.10162479281425477, 0.1537790596485138, 0.10170052647590638, 0.10717876553535462, 0.14205852746963502, 0.20388942956924438, 0.10498229861259462, 0.15144055485725405, 0.10250378251075745, 0.10829671621322633, 0.14888368844985964, 0.14980795383453369, 0.17071046829223635, 0.1286530375480652, 0.12777955532073976, 0.142341947555542, 0.1853383183479309, 0.42622759342193606, 0.14292318224906922, 0.10285717248916626, 0.09502882361412049, 0.1951644539833069, 0.08716456294059755, 0.07092964053153993, 0.3627125024795532, 0.09269662499427796, 0.1286530375480652, 0.14029836058616638, 0.15344884991645813, 0.22351852655410767, 0.13139719367027283, 0.6014053702354432, 0.13485925793647766, 0.11189748644828797, 0.09502882361412049, 0.35855005383491517, 0.1137508511543274, 0.16328853368759155, 0.123780757188797, 0.0977779507637024, 0.10391411185264587, 0.09405463337898255, 0.15344884991645813, 0.26339744925498965, 0.14646195769309997, 0.19434563517570497, 0.17737976908683778, 0.08556535243988038, 0.09502882361412049, 0.13610430359840395, 0.09575972557067872, 0.25890271067619325, 0.10089231729507447, 0.11143625378608704, 0.3012470006942749, 0.08885484337806702, 0.16333256959915163, 0.43665115237236024, 0.123780757188797, 0.12160106897354127, 0.12048528790473939, 0.15548606514930727, 0.11879772543907166, 0.137486332654953, 0.10162479281425477, 0.14899104237556457, 0.2177605390548706, 0.1432157337665558, 0.4964600443840027, 0.13035376071929933, 0.4269614040851593, 0.13717482089996338, 0.07994542121887208, 0.18819478750228882, 0.29897306561470033, 0.24445439577102662, 0.11637436151504517, 0.21253645420074463, 0.15144055485725405, 0.12596688866615297, 0.20001553893089297, 0.21282438635826112, 0.28256952166557314, 0.10412984490394593, 0.15319015979766848, 0.10535421967506409, 0.1369701325893402, 0.23113057017326355, 0.15862821340560915, 0.28623839616775515, 0.17544575929641726, 0.13139719367027283, 0.19997037649154664, 0.18123436570167542, 0.17357228994369509, 0.2911413490772247, 0.092353755235672, 0.120947927236557, 0.13030891418457033, 0.11362293958663941, 0.25570433735847475, 0.15498209595680237, 0.1883608102798462, 0.12210119366645814, 0.09819055795669557, 0.3956744074821472, 0.07969979643821717, 0.3464079737663269, 0.09514001607894898, 0.2321982502937317, 0.10758134126663209, 0.4404369294643402, 0.2083865761756897, 0.09597588181495667, 0.12416963577270508, 0.4519590437412262, 0.21756821870803833, 0.08946782350540161, 0.09575972557067872, 0.2083865761756897, 0.14083609580993653, 0.6236363172531129, 0.4445620596408844, 0.11045809388160706, 0.16333256959915163, 0.10778281688690186, 0.23958232998847961, 0.13862717747688294, 0.0977779507637024, 0.08605242967605592, 0.17587674260139466, 0.14795829057693483, 0.08905792236328125, 0.13610430359840395, 0.13255780935287476, 0.31126419305801395, 0.15333364009857178, 0.24053140282630922, 0.11077340841293336, 0.24599712491035464, 0.1849309504032135, 0.10388071537017823, 0.14782973527908325, 0.2654252350330353, 0.08716456294059755, 0.08502559065818788, 0.09879273176193237, 0.11708489060401917, 0.11611125469207764, 0.16275931000709534, 0.2857566952705383, 0.18607017993927003, 0.1363561987876892, 0.35517603754997257, 0.14509413242340088, 0.23088914155960083, 0.10535421967506409, 0.18873714208602907, 0.12112616896629334, 0.14980795383453369, 0.21608627438545228, 0.1185753345489502, 0.07994542121887208, 0.13030891418457033, 0.13414040803909302, 0.1546604037284851, 0.11624088287353516, 0.11624088287353516, 0.15862821340560915, 0.15319015979766848, 0.3509290337562561, 0.11887949109077454, 0.1539647936820984, 0.3312864124774933, 0.5853691279888154, 0.16373979449272158, 0.18123436570167542, 0.12210119366645814, 0.11624088287353516, 0.2023058831691742, 0.12431747913360597, 0.2843837201595307, 0.09838548302650452, 0.12048528790473939, 0.10183513164520264, 0.13615488409996032, 0.10065688490867615, 0.123780757188797, 0.1722321152687073, 0.2743419885635376, 0.13097832202911378, 0.20025859475135804, 0.15862821340560915, 0.1559921979904175, 0.1663314461708069, 0.1729803264141083, 0.12040197253227235, 0.3104821085929871, 0.123780757188797, 0.10829671621322633, 0.10162479281425477, 0.11185703277587891, 0.3016420066356659, 0.17614193558692934, 0.09503198266029358, 0.10087913870811463, 0.1924820840358734, 0.17587674260139466, 0.4134967625141144, 0.0740571916103363, 0.17499914169311526, 0.2900054931640625, 0.09203549623489381, 0.09981191158294678, 0.2252227783203125, 0.08976376056671143, 0.14013283848762512, 0.14160796403884887, 0.24803150892257692, 0.15383282899856568, 0.3556645631790161, 0.18579472899436952, 0.1232051968574524, 0.130586576461792, 0.11748777627944947, 0.08277583122253418, 0.13773600459098817, 0.2331182062625885, 0.12079721689224243, 0.12933833599090577, 0.09514001607894898, 0.14536308646202087, 0.09910416007041932, 0.2408600926399231, 0.1559921979904175, 0.1341154754161835, 0.1318602204322815, 0.15287068486213684, 0.3892160475254059, 0.12650331258773803, 0.23770655989646913, 0.2084570109844208, 0.12862948775291444, 0.08669113516807557, 0.08716456294059755, 0.09981191158294678, 0.22259403467178346, 0.14957420825958254, 0.1804022490978241, 0.260724675655365, 0.09203549623489381, 0.123780757188797, 0.10962619781494141, 0.10065688490867615, 0.35985829234123234, 0.4744632959365845, 0.08869739770889283, 0.2684772253036499, 0.2377891778945923, 0.08277583122253418, 0.1809583067893982, 0.2178918421268463, 0.07684451341629028, 0.08277583122253418, 0.16081637740135193, 0.13416797518730164, 0.11887949109077454, 0.09269662499427796, 0.23626646399497986, 0.2692320466041565, 0.3021148145198822, 0.33337962031364443, 0.20756374001502992, 0.1432157337665558, 0.13246408104896545, 0.22678285837173462, 0.11708489060401917, 0.44963444471359254, 0.23973081707954408, 0.14258928894996645, 0.26682066917419434, 0.14980795383453369, 0.1586126744747162, 0.120248281955719, 0.2081328868865967, 0.607621717453003, 0.24851240515708925, 0.12930655479431152, 0.21608627438545228, 0.20177742838859558, 0.12210119366645814, 0.0750493347644806, 0.14888368844985964, 0.1278899610042572, 0.15762557387351991, 0.09269662499427796, 0.09575972557067872, 0.43941127061843877, 0.3079754412174225, 0.16333256959915163, 0.3403791964054108, 0.16469913721084595, 0.13474775552749635, 0.08976376056671143, 0.10170052647590638, 0.09269662499427796, 0.22367841601371766, 0.10535421967506409, 0.11860311031341553, 0.09502882361412049, 0.18725520372390747, 0.09502882361412049, 0.08490536212921143, 0.18579472899436952, 0.1740240514278412, 0.10535421967506409, 0.12048528790473939, 0.1559921979904175, 0.14032098054885864, 0.1046732246875763, 0.08490536212921143, 0.2927782416343689, 0.2075637221336365, 0.15669558048248292, 0.12573665380477905, 0.30081374645233155, 0.10987246036529541, 0.2155639410018921, 0.2208437502384186, 0.120947927236557, 0.24282690286636355, 0.14536308646202087, 0.32728236317634585, 0.267814964056015, 0.10535421967506409, 0.2873772740364075, 0.16275931000709534, 0.1883608102798462, 0.13158580660820007, 0.1516429424285889, 0.2245019316673279, 0.12563410997390748, 0.22205932140350343, 0.372187352180481, 0.18655728101730348, 0.1883608102798462, 0.28331326842308047, 0.2002709746360779, 0.3790871977806092, 0.08716456294059755, 0.1887581527233124, 0.22591506242752077, 0.3080247521400452, 0.1584439814090729, 0.2797814965248108, 0.09826313853263856, 0.10535421967506409, 0.27648112177848816, 0.08873385190963745, 0.2007198989391327, 0.10280675292015076, 0.23433289527893067, 0.30372807979583744, 0.15794706344604492, 0.13851233124732973, 0.13721007108688354, 0.10170052647590638, 0.15862821340560915, 0.10535421967506409, 0.08946359753608704, 0.2317963778972626, 0.37073459625244143, 0.11014392971992493, 0.44246632456779483, 0.11046443581581117, 0.3582029938697815, 0.10535421967506409, 0.18829140067100525, 0.11004697680473328, 0.09602910280227661, 0.15319015979766848, 0.09502882361412049, 0.28557181954383853, 0.2962988793849945, 0.11143625378608704, 0.09514001607894898, 0.13887588381767274, 0.22033698558807374, 0.1099994719028473, 0.2571790158748627, 0.2764670491218567, 0.29051266312599183, 0.22508926391601564, 0.18123436570167542, 0.1286530375480652, 0.11046443581581117, 0.2104701578617096, 0.3190331041812897, 0.08976376056671143, 0.10913687944412231, 0.1846080720424652, 0.262778240442276, 0.05776710510253907, 0.08486036062240601, 0.20681098103523254, 0.20868190526962282, 0.19024422764778137, 0.12079721689224243, 0.1410266101360321, 0.11185703277587891, 0.0954938292503357, 0.18607017993927003, 0.2566302001476288, 0.12467750906944275, 0.16835536956787112, 0.17499914169311526, 0.09502882361412049, 0.1880941390991211, 0.15840001106262208, 0.2081328868865967, 0.15144055485725405, 0.15601245760917665, 0.2927782416343689, 0.15646442770957947, 0.10141975283622742, 0.1397192656993866, 0.10758134126663209, 0.09513810276985168, 0.18123436570167542, 0.09278572201728821, 0.13862717747688294, 0.1734877407550812, 0.15344884991645813, 0.15604928135871887, 0.1368763267993927, 0.3544404923915863, 0.09575972557067872, 0.2769268035888672, 0.09575972557067872, 0.1559921979904175, 0.22199772596359255, 0.10702335238456727, 0.09502882361412049, 0.19349437952041626, 0.10087913870811463, 0.1618281662464142, 0.3368473291397095, 0.15198071599006654, 0.18546258807182314, 0.1286530375480652, 0.10087913870811463, 0.16380202770233154, 0.20681098103523254, 0.09708347916603088, 0.16333256959915163, 0.23605400919914246, 0.2387145757675171, 0.15832092165946962, 0.13030891418457033, 0.1318602204322815, 0.12048528790473939, 0.08946359753608704, 0.2369907855987549, 0.24803150892257692, 0.15794706344604492, 0.09879273176193237, 0.14032098054885864, 0.12814970016479493, 0.1550195872783661, 0.1168723225593567, 0.12689343690872193, 0.1286530375480652, 0.20681098103523254, 0.11624088287353516, 0.17637735605239868, 0.30262216329574587, 0.5128553807735443, 0.24399585723876954, 0.13030891418457033, 0.311985856294632, 0.12021349668502808, 0.13230828642845155, 0.2253921926021576, 0.1587708294391632, 0.19943049550056458, 0.15576687455177307, 0.09853163957595826, 0.16081637740135193, 0.2253085017204285, 0.18804298639297487, 0.09502882361412049, 0.08203186988830567, 0.09278572201728821, 0.23339619636535647, 0.18792815804481508, 0.09502882361412049, 0.13851233124732973, 0.08486036062240601, 0.3813172221183777, 0.4268292307853699, 0.32558900713920597, 0.16469913721084595, 0.25609681010246277, 0.12210119366645814, 0.13027098774909973, 0.11624088287353516, 0.15794706344604492, 0.12014036774635316, 0.2698680877685547, 0.1843245804309845, 0.21557812094688417, 0.13015920519828797, 0.09502882361412049, 0.11046443581581117, 0.6811850845813752, 0.11185703277587891, 0.15319015979766848, 0.32286983728408813, 0.299064564704895, 0.13139719367027283, 0.17043456435203552, 0.11624088287353516, 0.20861069560050965, 0.23513013124465942, 0.20814877152442934, 0.09330524802207947, 0.3247054934501648, 0.16333256959915163, 0.2778068840503693, 0.14577245712280273, 0.12658393383026123, 0.13449831604957582, 0.1951644539833069, 0.11624088287353516, 0.08605242967605592, 0.2953956604003906, 0.2886318922042847, 0.23171300888061525, 0.09910416007041932, 0.1410266101360321, 0.14258928894996645, 0.31766105294227603, 0.08490536212921143, 0.11857147812843323, 0.09876995086669922, 0.14778984785079957, 0.20157945156097412, 0.27129106521606444, 0.18807173371315003, 0.1252928912639618, 0.10758134126663209, 0.08869739770889283, 0.31965630650520327, 0.2568832099437714, 0.18470301628112795, 0.15198071599006654, 0.15646442770957947, 0.10333492755889893, 0.18609282970428467, 0.2649326503276825, 0.11185703277587891, 0.1944336771965027, 0.14032098054885864, 0.2918922185897827, 0.11185703277587891, 0.1286530375480652, 0.14292318224906922, 0.3192342758178711, 0.12810990810394288, 0.479701715707779, 0.40803287625312806, 0.2321178674697876, 0.3709544718265534, 0.25609681010246277, 0.3502320468425751, 0.08873385190963745, 0.18607017993927003, 0.08908098340034486, 0.5506257057189942, 0.10170052647590638, 0.22949411869049074, 0.10285717248916626, 0.10162479281425477, 0.2331182062625885, 0.10606980919837952, 0.4216898798942566, 0.12210119366645814, 0.20423831939697268, 0.14292318224906922, 0.16081637740135193, 0.16333256959915163, 0.21361634731292725, 0.10065688490867615, 0.20654776096343996, 0.2509979784488678, 0.16333256959915163, 0.08946359753608704, 0.08987614512443542, 0.2269421696662903, 0.1300674021244049, 0.16775652766227722, 0.1137941598892212, 0.2891610085964203, 0.10535421967506409, 0.1252928912639618, 0.28237149119377136, 0.1286530375480652, 0.25932143330574037, 0.11185703277587891, 0.15498209595680237, 0.08873385190963745, 0.08808199763298036, 0.156480610370636, 0.249646270275116, 0.2771897494792938, 0.09910416007041932, 0.1298996925354004, 0.12070452570915223, 0.10535421967506409, 0.09575972557067872, 0.21327650547027588, 0.11624088287353516, 0.16275931000709534, 0.15931732058525086, 0.08490536212921143, 0.13860785365104675, 0.10535421967506409, 0.15222154259681703, 0.10285564661026002, 0.19097937345504762, 0.09502882361412049, 0.16401247382164003, 0.2506079852581024, 0.2999920427799225, 0.14292318224906922, 0.1318602204322815, 0.13851233124732973, 0.09910416007041932, 0.22932517528533936, 0.10141975283622742, 0.15715688467025757, 0.10896918177604675, 0.24221905469894411, 0.1565779447555542, 0.2895605027675629, 0.19479256868362427, 0.10829671621322633, 0.16217032074928284, 0.12554147839546204, 0.123780757188797, 0.130586576461792, 0.14888368844985964, 0.0983462154865265, 0.09550718069076539, 0.16081637740135193, 0.16086175441741946, 0.20384144186973574, 0.13414040803909302, 0.09269662499427796, 0.2312751352787018, 0.20388942956924438, 0.09502882361412049, 0.07170899510383606, 0.08869739770889283, 0.16561277508735658, 0.4642767786979676, 0.11046443581581117, 0.3291369259357453, 0.15601245760917665, 0.15319015979766848, 0.1410266101360321, 0.1278899610042572, 0.12810990810394288, 0.1861582100391388, 0.2728232741355896, 0.13584759831428528, 0.2844439446926117, 0.15794706344604492, 0.18212348222732544, 0.3255741119384766, 0.16333256959915163, 0.16631963849067688, 0.11185703277587891, 0.10535421967506409, 0.15548606514930727, 0.16090348958969117, 0.18792614340782166, 0.18282188177108766, 0.1410266101360321, 0.10985845923423768, 0.12474854588508606, 0.17637735605239868, 0.24299190044403077, 0.1234170138835907, 0.15215685963630676, 0.08716456294059755, 0.1389337122440338, 0.30869709849357607, 0.11678971052169801, 0.15215685963630676, 0.20505969524383547, 0.14489880204200745, 0.13867300152778625, 0.27507231235504154, 0.18091470003128052, 0.16679118275642396, 0.1482979655265808, 0.15498209595680237, 0.2541870951652527, 0.16333256959915163, 0.15344884991645813, 0.11143625378608704, 0.10162479281425477, 0.08946359753608704, 0.13610430359840395, 0.15319015979766848, 0.1286530375480652, 0.18123436570167542, 0.18123436570167542, 0.07994542121887208, 0.15319015979766848, 0.13867300152778625, 0.16275931000709534, 0.08873385190963745, 0.21217514872550966, 0.36129725575447086, 0.2025356650352478, 0.26170770525932313, 0.08873385190963745, 0.1617755889892578, 0.2597313463687897, 0.39191297292709354, 0.1883608102798462, 0.21217514872550966, 0.10848723649978638, 0.4855836868286133, 0.2649326503276825, 0.43732570409774785, 0.23095937967300417, 0.42545831799507144, 0.2321493208408356, 0.13416797518730164, 0.547434675693512, 0.3676926136016846, 0.2647154986858368, 0.24053140282630922, 0.11883642077445984, 0.38028345704078675, 0.09514001607894898, 0.188928359746933, 0.3493272662162781, 0.15548606514930727, 0.11185703277587891, 0.13416797518730164, 0.15761587023735046, 0.08976376056671143, 0.1252928912639618, 0.09502882361412049, 0.1663314461708069, 0.10162479281425477, 0.2477620005607605, 0.09826313853263856, 0.16333256959915163, 0.18741806745529177, 0.37290817499160767, 0.10087913870811463, 0.10450725555419922, 0.13955402970314026, 0.5980660676956177, 0.1539647936820984, 0.1363561987876892, 0.08873385190963745, 0.10535421967506409, 0.24674188494682314, 0.26057626605033873, 0.22496564388275148, 0.3741455614566803, 0.12851229906082154, 0.25849016904830935, 0.08936281800270081, 0.11901796460151673, 0.3127847790718079, 0.11624088287353516, 0.1804022490978241, 0.24533562660217287, 0.10913687944412231, 0.11748777627944947, 0.2253103017807007, 0.13030891418457033, 0.1846080720424652, 0.14888368844985964, 0.2062239944934845, 0.1209463119506836, 0.13781328201293946, 0.18607017993927003, 0.1682992458343506, 0.1318602204322815, 0.08976376056671143, 0.2097996473312378, 0.1861582100391388, 0.10162479281425477, 0.3018331110477448, 0.14899104237556457, 0.15627798438072205, 0.16275931000709534, 0.0976565718650818, 0.15862821340560915, 0.2494113564491272, 0.43550692200660707, 0.23433289527893067, 0.08502559065818788, 0.3578042984008789, 0.28710060119628905, 0.18094582557678224, 0.1432157337665558, 0.2881219506263733, 0.14899104237556457, 0.09502882361412049, 0.29497129917144777, 0.11552786231040955, 0.423715615272522, 0.1432157337665558, 0.1663314461708069, 0.17115439772605898, 0.14787896871566772, 0.19560093879699708, 0.13867300152778625, 0.10758134126663209, 0.10335873365402222, 0.14029836058616638, 0.1883608102798462, 0.2665628254413605, 0.14536308646202087, 0.08466466069221497, 0.2435388505458832, 0.11234416961669923, 0.16380202770233154, 0.10648677945137025, 0.09179049730300903, 0.15344884991645813, 0.22368422746658326, 0.20562433004379274, 0.2317963778972626, 0.11254181265830994, 0.3373994112014771, 0.25783518552780155, 0.2477813005447388, 0.14536308646202087, 0.1883608102798462, 0.12933833599090577, 0.34908866286277773, 0.10913687944412231, 0.7087437093257904, 0.08716456294059755, 0.2794809341430664, 0.15717690587043764, 0.11637436151504517, 0.19816984534263613, 0.10162479281425477, 0.26365283131599426, 0.18490056395530702, 0.2845299899578095, 0.15344884991645813, 0.29721577763557433, 0.49118250608444214, 0.17663649916648866, 0.10388071537017823, 0.12427071928977967, 0.09514001607894898, 0.36507129669189453, 0.2197414577007294, 0.120947927236557, 0.1710848867893219, 0.17395930886268618, 0.11254181265830994, 0.14980795383453369, 0.1083109736442566, 0.290038800239563, 0.19479256868362427, 0.15498209595680237, 0.17637735605239868, 0.5708623111248017, 0.13860785365104675, 0.12704830169677736, 0.23776335120201111, 0.1091298282146454, 0.2025356650352478, 0.08885484337806702, 0.1098755955696106, 0.3097957730293274, 0.33105323910713197, 0.15215685963630676, 0.25861467719078063, 0.26890437602996825, 0.20760867595672608, 0.120947927236557, 0.33795290589332583, 0.3150317907333374, 0.120947927236557, 0.30000711083412174, 0.10450725555419922, 0.09910416007041932, 0.16275931000709534, 0.5379563510417938, 0.13721007108688354, 0.2181393623352051, 0.22220110893249512, 0.08435707092285157, 0.12297197580337525, 0.18470301628112795, 0.3860503971576691, 0.15129252076148988, 0.26170770525932313, 0.08277583122253418, 0.1648135006427765, 0.18607017993927003, 0.16556238532066347, 0.32960944771766665, 0.07170899510383606, 0.2686637282371521, 0.10829671621322633, 0.2721905648708344, 0.120947927236557, 0.10913687944412231, 0.338591742515564, 0.09269662499427796, 0.1432157337665558, 0.20547612905502322, 0.120947927236557, 0.12704830169677736, 0.10162479281425477, 0.1702589511871338, 0.1252928912639618, 0.3277003109455109, 0.2874354124069214, 0.09791724085807801, 0.10333492755889893, 0.17043456435203552, 0.27180734276771545, 0.21217514872550966, 0.5434439063072205, 0.22350255846977235, 0.41205114722251895, 0.08800894618034363, 0.368029922246933, 0.12488428354263306, 0.13210474252700807, 0.15710349678993227, 0.09078972935676576, 0.15000652670860293, 0.08873385190963745, 0.09879273176193237, 0.20663775205612184, 0.19538251161575318, 0.11690468788146974, 0.06329434514045716, 0.14899104237556457, 0.1286530375480652, 0.08792270421981813, 0.13862717747688294, 0.10535421967506409, 0.1753661096096039, 0.19400041699409487, 0.1559921979904175, 0.09879273176193237, 0.1642672657966614, 0.16275931000709534, 0.10535421967506409, 0.14536308646202087, 0.36352246403694155, 0.07856430411338806, 0.12554911375045777, 0.2365217745304108, 0.2538058400154114, 0.11637436151504517, 0.11349052786827088, 0.25861467719078063, 0.09910416007041932, 0.35365933179855347, 0.17291648387908937, 0.3144883155822754, 0.12048528790473939, 0.2954059362411499, 0.1663314461708069, 0.2373427987098694, 0.16426456570625306, 0.14592419266700746, 0.1252928912639618, 0.21890725493431093, 0.21551879644393923, 0.2571790158748627, 0.3179302453994751, 0.30018140077590943, 0.11185703277587891, 0.17468929886817933, 0.15715688467025757, 0.19582394361495972, 0.14656623601913452, 0.08976376056671143, 0.28396316766738894, 0.15498209595680237, 0.18925188779830934, 0.22601797580718996, 0.21861241459846498, 0.213025963306427, 0.1304495632648468, 0.2390422224998474, 0.09474723339080811, 0.1559921979904175, 0.13414040803909302, 0.09879273176193237, 0.1559921979904175, 0.3304217278957367, 0.11748777627944947, 0.10535421967506409, 0.07994542121887208, 0.3388955354690552, 0.1286530375480652, 0.16333256959915163, 0.10913687944412231, 0.12420450448989868, 0.15669558048248292, 0.09502882361412049, 0.11185703277587891, 0.26839485168457033, 0.19456596970558168, 0.10535421967506409, 0.1663314461708069, 0.07092964053153993, 0.1286530375480652, 0.16333256959915163, 0.12210119366645814, 0.1073617696762085, 0.3071502447128296, 0.28405559659004215, 0.15319015979766848, 0.22721174955368043, 0.11185703277587891, 0.1213493287563324, 0.22596373558044436, 0.1722321152687073, 0.08598405122756958, 0.2368895471096039, 0.2513524353504181, 0.11046443581581117, 0.1277169466018677, 0.13939162492752075, 0.15794706344604492, 0.08277583122253418, 0.09863885641098023, 0.09269662499427796, 0.13203835487365723, 0.1802711546421051, 0.26766619086265564, 0.18794753551483157, 0.08946359753608704, 0.243074369430542, 0.11046443581581117, 0.15794706344604492, 0.12309484481811524, 0.32117629647254947, 0.08051345348358155, 0.10061103701591492, 0.15319015979766848, 0.13416797518730164, 0.3436224162578583, 0.1587708294391632, 0.09278572201728821, 0.123780757188797, 0.08018608689308167, 0.13419660925865173, 0.2131557583808899, 0.10162479281425477, 0.08716456294059755, 0.11234416961669923, 0.120947927236557, 0.11569586396217346, 0.22086067199707032, 0.5161316990852356, 0.16915749311447145, 0.22591506242752077, 0.05776710510253907, 0.15862821340560915, 0.3063128471374512, 0.10478114485740662, 0.0750493347644806, 0.47708232998847966, 0.15862821340560915, 0.5865567088127136, 0.3016492784023285, 0.24185911417007447, 0.22806775569915771, 0.14029836058616638, 0.1318602204322815, 0.26667170524597167, 0.18739184737205505, 0.1722321152687073, 0.2962290823459625, 0.20313303470611574, 0.15319015979766848, 0.33767290115356446, 0.08605242967605592, 0.16328853368759155, 0.11254181265830994, 0.120947927236557, 0.18656874895095826, 0.12067505717277527, 0.14769675731658935, 0.08987614512443542, 0.13139719367027283, 0.2853526592254639, 0.10333492755889893, 0.20005584955215455, 0.12210119366645814, 0.16296099424362184, 0.08486036062240601, 0.32319578528404236, 0.1358121931552887, 0.18655728101730348, 0.1339143455028534, 0.12918701767921448, 0.11624088287353516, 0.09269662499427796, 0.12123099565505982, 0.19875818490982056, 0.07969979643821717, 0.26682066917419434, 0.1765408217906952, 0.11185703277587891, 0.3992603182792664, 0.16679118275642396, 0.4854731738567353, 0.10065688490867615, 0.05776710510253907, 0.16388511657714844, 0.261185222864151, 0.11254181265830994, 0.12626764178276062, 0.17713345885276796, 0.6714804828166963, 0.10244215726852418, 0.09502882361412049, 0.2691335558891296, 0.16333256959915163, 0.14624330401420593, 0.15646442770957947, 0.13224149942398072, 0.4126155555248261, 0.08490536212921143, 0.1951644539833069, 0.15235507488250732, 0.15186220407485962, 0.17741852402687075, 0.08716456294059755, 0.2269421696662903, 0.19557337164878846, 0.3345187664031983, 0.19992333054542544, 0.20346485376358034, 0.16971713900566102, 0.17637735605239868, 0.17801430821418762, 0.15765372514724732, 0.08869739770889283, 0.13867300152778625, 0.17644248604774476, 0.21218832135200502, 0.17837553620338442, 0.1232051968574524, 0.12079721689224243, 0.18974429965019227, 0.4563840329647064, 0.20505969524383547, 0.5057770252227783, 0.21809878349304201, 0.11143625378608704, 0.10170052647590638, 0.18778735995292664, 0.25598809719085697, 0.5358836948871613, 0.13015920519828797, 0.123780757188797, 0.05776710510253907, 0.12395041584968568, 0.12743613719940186, 0.214122474193573, 0.25861467719078063, 0.2851027429103851, 0.4986371636390686, 0.2312751352787018, 0.08716456294059755, 0.120947927236557, 0.1569440007209778, 0.08486036062240601, 0.11185703277587891, 0.13158580660820007, 0.22601797580718996, 0.19764623045921326, 0.44608294367790224, 0.16333256959915163, 0.5659198939800263, 0.08737109899520874, 0.16764488220214846, 0.09575972557067872, 0.26009401679039, 0.20159173607826233, 0.15154887437820436, 0.09575972557067872, 0.19145440459251406, 0.11114448308944702, 0.10162479281425477, 0.18388140201568604, 0.3331758201122284, 0.10848723649978638, 0.22571859359741211, 0.20505650639533998, 0.24909299612045288, 0.5021202743053437, 0.08490536212921143, 0.5132501602172852, 0.47491897344589235, 0.09567677974700928, 0.27742754220962523, 0.2462005376815796, 0.10162479281425477, 0.09879273176193237, 0.1355728030204773, 0.19891653060913086, 0.2250100076198578, 0.19690654277801514, 0.5439608693122864, 0.31836057305336, 0.15862821340560915, 0.2312751352787018, 0.23536101579666138, 0.15210583806037903, 0.12777955532073976, 0.11611125469207764, 0.321327155828476, 0.15319015979766848, 0.1656714379787445, 0.15344884991645813, 0.16908849477767945, 0.11589044928550721, 0.11185703277587891, 0.16333256959915163, 0.16333256959915163, 0.0990607500076294, 0.1679553270339966, 0.18542656302452087, 0.10085815787315369, 0.22772459983825685, 0.12722705602645876, 0.23770655989646913, 0.24540655612945558, 0.319847846031189, 0.120248281955719, 0.13419660925865173, 0.09879273176193237, 0.18157610297203064, 0.09708347916603088, 0.3297803521156311, 0.12309484481811524, 0.1663314461708069, 0.07132845520973206, 0.1842341125011444, 0.23658380508422852, 0.17472609877586365, 0.28951082825660707, 0.11185703277587891, 0.23956401944160463, 0.15498209595680237, 0.10450725555419922, 0.2377891778945923, 0.29436281919479373, 0.12689343690872193, 0.2322434425354004, 0.28093332052230835, 0.08716456294059755, 0.1944336771965027, 0.19478068351745606, 0.120947927236557, 0.20505969524383547, 0.20147950649261476, 0.26728646755218505, 0.11232898831367494, 0.2477813005447388, 0.09203549623489381, 0.11690468788146974, 0.26009401679039, 0.15498209595680237, 0.42074602246284487, 0.18621757030487063, 0.23351970911026002, 0.2621452987194061, 0.15601951479911805, 0.27024445533752445, 0.15146266818046572, 0.305365651845932, 0.08716456294059755, 0.2795813977718353, 0.11883642077445984, 0.24261579513549805, 0.09474723339080811, 0.16740643978118896, 0.3293937206268311, 0.20283303260803223, 0.1410266101360321, 0.3491825819015503, 0.22190195322036743, 0.15794706344604492, 0.123780757188797, 0.18123436570167542, 0.09879273176193237, 0.12048528790473939, 0.11143625378608704, 0.47993948459625246, 0.3548004150390625, 0.15511247515678406, 0.466774994134903, 0.07969979643821717, 0.39512038230895996, 0.2047379791736603, 0.15215685963630676, 0.1648135006427765, 0.1235570251941681, 0.08716456294059755, 0.08598405122756958, 0.10535421967506409, 0.3171859443187714, 0.12210119366645814, 0.11624088287353516, 0.13262897729873657, 0.13223960995674133, 0.1559921979904175, 0.13610430359840395, 0.1679655373096466, 0.10961897373199464, 0.09261332750320435, 0.10162479281425477, 0.08716456294059755, 0.12048528790473939, 0.12777955532073976, 0.29114888310432435, 0.14029836058616638, 0.18096137642860413, 0.16767133474349977, 0.1012208104133606, 0.34296001791954045, 0.11680331826210022, 0.39489027857780457, 0.12862948775291444, 0.0977779507637024, 0.3192344903945923, 0.2926146149635315, 0.25609681010246277, 0.20001553893089297, 0.13584759831428528, 0.4637795686721802, 0.10087913870811463, 0.25889220237731936, 0.08277583122253418, 0.1761257827281952, 0.15101720690727236, 0.08946782350540161, 0.09514001607894898, 0.10913687944412231, 0.08716456294059755, 0.16654877662658693, 0.18517292737960817, 0.13610430359840395, 0.10794458389282227, 0.1234170138835907, 0.10953347682952881, 0.22205321192741395, 0.15715688467025757, 0.5826108634471894, 0.25868051648139956, 0.15344884991645813, 0.11624088287353516, 0.17770426869392397, 0.1341154754161835, 0.10686119198799134, 0.29949553608894347, 0.12312563061714173, 0.08808199763298036, 0.12147833704948426, 0.17102636694908144, 0.21581452488899233, 0.20681098103523254, 0.3049090504646301, 0.09910416007041932, 0.14211995005607606, 0.16333256959915163, 0.09503198266029358, 0.08490536212921143, 0.14888368844985964, 0.177184933423996, 0.22750010490417483, 0.06909301280975343, 0.1663314461708069, 0.19390785694122314, 0.12048528790473939, 0.08381013870239258, 0.2570457994937897, 0.16775652766227722, 0.18494782447814942, 0.16081637740135193, 0.12312563061714173, 0.16081637740135193, 0.18607017993927003, 0.11748777627944947, 0.1286530375480652, 0.08490536212921143, 0.20505969524383547, 0.12756450176239015, 0.10535421967506409, 0.09575972557067872, 0.20524458289146424, 0.3426538944244385, 0.08873385190963745, 0.5522082209587097, 0.08923050165176392, 0.18123436570167542, 0.13494853973388674, 0.08488870859146119, 0.09237824082374574, 0.161823308467865, 0.27068892121315, 0.18470301628112795, 0.17995012998580934, 0.10535421967506409, 0.20570718050003053, 0.12079721689224243, 0.09490653872489929, 0.16081637740135193, 0.11748777627944947, 0.21866506338119507, 0.120319664478302, 0.11046443581581117, 0.6122299909591675, 0.30713466405868534, 0.1341154754161835, 0.3914569139480591, 0.08203186988830567, 0.1818342745304108, 0.2426150977611542, 0.28789844512939455, 0.15692689418792727, 0.11197374463081361, 0.10758134126663209, 0.11706907153129578, 0.20591788291931154, 0.16275931000709534, 0.16275931000709534, 0.32580700516700745, 0.11748777627944947, 0.12689343690872193, 0.12302181124687195, 0.09502882361412049, 0.16226747632026672, 0.17305291295051575, 0.09603489041328431, 0.16798334717750552, 0.14250887036323548, 0.2569413244724274, 0.08946782350540161, 0.08808199763298036, 0.1485455870628357, 0.25084956288337706, 0.11879772543907166, 0.11397854685783387, 0.15765372514724732, 0.30035535097122196, 0.09278572201728821, 0.1559921979904175, 0.17587674260139466, 0.20204294919967652, 0.1253492534160614, 0.195228910446167, 0.11751893758773804, 0.11433141231536866, 0.10778281688690186, 0.11678971052169801, 0.15521953701972963, 0.13584759831428528, 0.16377742886543276, 0.10281728506088257, 0.07695006728172303, 0.23824188113212585, 0.21134667396545412, 0.20017862915992737, 0.15862821340560915, 0.17637735605239868, 0.11624088287353516, 0.22086067199707032, 0.10170052647590638, 0.11185703277587891, 0.15498209595680237, 0.22529670596122742, 0.24571357965469362, 0.10758134126663209, 0.120947927236557, 0.2662277460098267, 0.15498209595680237, 0.1663314461708069, 0.2340941905975342, 0.08492828011512757, 0.21298476457595827, 0.13584759831428528, 0.20999184846878052, 0.08946359753608704, 0.17183292508125306, 0.24026172161102297, 0.15880677103996277, 0.3467276155948639, 0.2780200719833374, 0.15319015979766848, 0.1286530375480652, 0.10953425765037537, 0.10087913870811463, 0.07994542121887208, 0.08923050165176392, 0.10563277006149292, 0.18608703613281252, 0.317699933052063, 0.12704830169677736, 0.15498209595680237, 0.2301930069923401, 0.18123436570167542, 0.08277583122253418, 0.14695743918418885, 0.1286530375480652, 0.12048528790473939, 0.18742916584014893, 0.08716456294059755, 0.19187809824943544, 0.15862821340560915, 0.12749623656272888, 0.10453688502311707, 0.10606980919837952, 0.17183292508125306, 0.13610430359840395, 0.1216101348400116, 0.07092964053153993, 0.1565328598022461, 0.19368107914924623, 0.10913687944412231, 0.13862717747688294, 0.14321060180664064, 0.12743613719940186, 0.16798334717750552, 0.13610430359840395, 0.39696936607360844, 0.14899104237556457, 0.15319015979766848, 0.24053140282630922, 0.18780303597450257, 0.16519228219985962, 0.09490653872489929, 0.11624088287353516, 0.19282748699188235, 0.12312563061714173, 0.11611125469207764, 0.15626195073127747, 0.1252928912639618, 0.10035465955734253, 0.1876217246055603, 0.11046443581581117, 0.12309484481811524, 0.20505969524383547, 0.15498209595680237, 0.547368597984314, 0.09502882361412049, 0.16881602406501772, 0.10535421967506409, 0.09838548302650452, 0.29391572475433353, 0.20292083024978638, 0.2612771987915039, 0.3072211921215058, 0.09879273176193237, 0.09879273176193237, 0.18065465092658997, 0.16081637740135193, 0.24571357965469362, 0.3781479001045227, 0.36040425300598145, 0.12048528790473939, 0.17811485528945925, 0.08873385190963745, 0.12907294631004335, 0.312760603427887, 0.11893345117568971, 0.09910416007041932, 0.1804022490978241, 0.18719704747200014, 0.11708489060401917, 0.313142865896225, 0.16426456570625306, 0.09575972557067872, 0.23824188113212585, 0.14287841320037842, 0.15761587023735046, 0.09269662499427796, 0.2084570109844208, 0.23309307694435122, 0.09278572201728821, 0.12746162414550782, 0.18123436570167542, 0.2698680877685547, 0.18719704747200014, 0.12704830169677736, 0.12704830169677736, 0.14029836058616638, 0.10535421967506409, 0.5064971745014191, 0.09879273176193237, 0.17584352493286134, 0.16469913721084595, 0.177184933423996, 0.3014537632465363, 0.08716456294059755, 0.10065688490867615, 0.2728963911533356, 0.18607017993927003, 0.1286530375480652, 0.10535421967506409, 0.08381013870239258, 0.08808199763298036, 0.6642813324928284, 0.15762557387351991, 0.23189629316329957, 0.2666419804096222, 0.14823561310768127, 0.10170052647590638, 0.16380465030670166, 0.18287767171859742, 0.17920317053794863, 0.20470584630966188, 0.24186675548553468, 0.10778281688690186, 0.29181788563728334, 0.2635675072669983, 0.3550977647304535, 0.23189629316329957, 0.22205932140350343, 0.1286530375480652, 0.09232022166252137, 0.15319015979766848, 0.46566625833511355, 0.3360096573829651, 0.27742754220962523, 0.11502587199211121]\n"
          ],
          "name": "stdout"
        }
      ]
    },
    {
      "cell_type": "code",
      "metadata": {
        "id": "xKWzjo_D42x5",
        "colab_type": "code",
        "colab": {}
      },
      "source": [
        "# users that have high and low Intra-list diversity scores\n",
        "\n",
        "#sort the iidScore using argsort which will return a list of the indexes\n",
        "sortedIld = np.argsort(ildScore)                   "
      ],
      "execution_count": 0,
      "outputs": []
    },
    {
      "cell_type": "code",
      "metadata": {
        "id": "jC22VxD_b7a_",
        "colab_type": "code",
        "outputId": "37c4f4c2-e377-47e9-e2e1-584c5893beba",
        "colab": {
          "base_uri": "https://localhost:8080/",
          "height": 221
        }
      },
      "source": [
        "#get suggested items for users that have HIGHEST Intra-list diversity scores\n",
        "\n",
        "print(ildScore[sortedIld[-1]])\n",
        "ranks = st.rankdata(-best_model_Q3.predict(sortedIld[-1]))\n",
        "#get topFive books indexes\n",
        "top_five = [i.item(0) for i in np.argwhere(ranks<=5)]\n",
        "print(top_five)\n",
        "# print(uid_rev_map[topFive[3]])\n",
        "for i in range(len(top_five)) :\n",
        "  #get the book id and the title\n",
        "  x = iid_rev_map[top_five[i]]\n",
        "  print(books_df[books_df.book_id == x]['title'])\n",
        "\n",
        "# print(books_df[books_df.book_id == iid_rev_map[21]]['title'])"
      ],
      "execution_count": 0,
      "outputs": [
        {
          "output_type": "stream",
          "text": [
            "0.7087437093257904\n",
            "[9, 21, 23, 48, 581]\n",
            "1    Harry Potter and the Sorcerer's Stone (Harry P...\n",
            "Name: title, dtype: object\n",
            "4    The Great Gatsby\n",
            "Name: title, dtype: object\n",
            "7    The Catcher in the Rye\n",
            "Name: title, dtype: object\n",
            "49    Where the Sidewalk Ends\n",
            "Name: title, dtype: object\n",
            "24    Harry Potter and the Deathly Hallows (Harry Po...\n",
            "Name: title, dtype: object\n"
          ],
          "name": "stdout"
        }
      ]
    },
    {
      "cell_type": "code",
      "metadata": {
        "id": "_2kxTcFUcLkQ",
        "colab_type": "code",
        "outputId": "101bfe96-3c31-4e0e-8e25-e89ee395c6ff",
        "colab": {
          "base_uri": "https://localhost:8080/",
          "height": 221
        }
      },
      "source": [
        "#get suggested items for users that have LOWEST Intra-list diversity scores\n",
        "print(ildScore[sortedIld[0]])\n",
        "ranks = st.rankdata(-best_model_Q3.predict(sortedIld[0]))\n",
        "#get topFive books indexes\n",
        "top_five = [i.item(0) for i in np.argwhere(ranks<=5)]\n",
        "print(top_five)\n",
        "for i in range(len(top_five)) :\n",
        "  #get the book id and the title\n",
        "  x = iid_rev_map[top_five[i]]\n",
        "  print(books_df[books_df.book_id == x]['title'])\n",
        "\n",
        "# print(iid_rev_map[topFive[3]])\n",
        "# print(books_df[books_df.book_id == x]['title'])"
      ],
      "execution_count": 0,
      "outputs": [
        {
          "output_type": "stream",
          "text": [
            "0.05776710510253907\n",
            "[21, 23, 24, 34, 210]\n",
            "4    The Great Gatsby\n",
            "Name: title, dtype: object\n",
            "7    The Catcher in the Rye\n",
            "Name: title, dtype: object\n",
            "64    Slaughterhouse-Five\n",
            "Name: title, dtype: object\n",
            "54    Brave New World\n",
            "Name: title, dtype: object\n",
            "120    Lolita\n",
            "Name: title, dtype: object\n"
          ],
          "name": "stdout"
        }
      ]
    },
    {
      "cell_type": "markdown",
      "metadata": {
        "id": "XsoNjmQrtJi1",
        "colab_type": "text"
      },
      "source": [
        "#Q4"
      ]
    },
    {
      "cell_type": "code",
      "metadata": {
        "id": "O8n4SqLQtL-o",
        "colab_type": "code",
        "outputId": "b6273d24-46fe-4ed9-cc3d-6162dfcf29de",
        "colab": {
          "base_uri": "https://localhost:8080/",
          "height": 34
        }
      },
      "source": [
        "#Combine the outputs from the two ImplicitFactorizationModel models\n",
        "#CombSum data fusion method\n",
        "from sklearn import preprocessing\n",
        "\n",
        "class CombSum :\n",
        "\n",
        "  def predict(self, uid) :\n",
        "    bestRank_Q2 = best_model_Q2.predict(uid)\n",
        "    bestRank_Q3 = best_model_Q3.predict(uid)\n",
        "    \n",
        "    return np.add(bestRank_Q2, bestRank_Q3)\n",
        "\n",
        "#Evaluate the outcome on the test set using MRR\n",
        "print(mrr_score(CombSum(), test_dataset, train=rating_dataset, k=100).mean())\n",
        "\n"
      ],
      "execution_count": 0,
      "outputs": [
        {
          "output_type": "stream",
          "text": [
            "0.4167175229035256\n"
          ],
          "name": "stdout"
        }
      ]
    },
    {
      "cell_type": "code",
      "metadata": {
        "id": "i3xg0w7mwAlo",
        "colab_type": "code",
        "outputId": "18677301-4be4-441e-ae5a-2989e2b07ed9",
        "colab": {
          "base_uri": "https://localhost:8080/",
          "height": 279
        }
      },
      "source": [
        "#Plot the before and after RR scores for each user, compared to the best model from Question 3\n",
        "import matplotlib.pyplot as plt\n",
        "# from google.colab import files\n",
        "\n",
        "scoreQ2 = mrr_score(best_model_Q2, test_dataset, k=100)\n",
        "combSumScore = mrr_score(CombSum(), test_dataset, k=100)\n",
        "\n",
        "plt.plot(combSumScore, label='CombSum')\n",
        "plt.plot(scoreQ2, label='ImplicitFactorizationModel')\n",
        "plt.ylabel('MMR Score')\n",
        "plt.xlabel('User')\n",
        "plt.legend(loc=\"upper left\")\n",
        "# plt.savefig(\"mmr.png\")\n",
        "# files.download(\"mmr.png\")\n",
        "plt.show()\n"
      ],
      "execution_count": 0,
      "outputs": [
        {
          "output_type": "display_data",
          "data": {
            "image/png": "[encoded data removed]",
            "text/plain": [
              "<Figure size 432x288 with 1 Axes>"
            ]
          },
          "metadata": {
            "tags": []
          }
        }
      ]
    },
    {
      "cell_type": "code",
      "metadata": {
        "id": "AnFp_d5T1M2p",
        "colab_type": "code",
        "outputId": "a091ee7d-788f-4831-973f-6afae4479eee",
        "colab": {
          "base_uri": "https://localhost:8080/",
          "height": 281
        }
      },
      "source": [
        "#Plot the deltas\n",
        "plt.plot(combSumScore - scoreQ2, label='Delta')\n",
        "plt.ylabel('MMR Score')\n",
        "plt.xlabel('User')\n",
        "plt.legend(loc=\"upper left\")\n",
        "plt.show()\n"
      ],
      "execution_count": 0,
      "outputs": [
        {
          "output_type": "display_data",
          "data": {
            "image/png": "[encoded data removed]",
            "text/plain": [
              "<Figure size 432x288 with 1 Axes>"
            ]
          },
          "metadata": {
            "tags": []
          }
        }
      ]
    },
    {
      "cell_type": "code",
      "metadata": {
        "id": "M1yUT4hF0tUy",
        "colab_type": "code",
        "outputId": "18f4748b-076c-4aa2-a69b-11b69c4eda52",
        "colab": {
          "base_uri": "https://localhost:8080/",
          "height": 34
        }
      },
      "source": [
        "print('Number of users improved ' + str(np.sum(combSumScore > scoreQ2)))"
      ],
      "execution_count": 0,
      "outputs": [
        {
          "output_type": "stream",
          "text": [
            "Number of users improved 899\n"
          ],
          "name": "stdout"
        }
      ]
    },
    {
      "cell_type": "markdown",
      "metadata": {
        "id": "hzRtMnG5Xa_r",
        "colab_type": "text"
      },
      "source": [
        "#Q5"
      ]
    },
    {
      "cell_type": "code",
      "metadata": {
        "id": "l5-dUvksXfxn",
        "colab_type": "code",
        "outputId": "f2b2f55e-6168-42ef-9b5b-7d13b422b759",
        "colab": {
          "base_uri": "https://localhost:8080/",
          "height": 204
        }
      },
      "source": [
        "#calculate lift\n",
        "#solution taken from lab 1\n",
        "\n",
        "positives=ratings_df[ratings_df[\"rating\"]>=4].drop([\"Unnamed: 0\"], axis=1)\n",
        "\n",
        "#join positives with itself on userId to get all pairs of books rated by a given user.\n",
        "pairs=pd.merge(positives, positives, on=[\"user_id\"])\n",
        "\n",
        "sequences=pairs[pairs[\"book_id_x\"] < pairs[\"book_id_y\"]] \n",
        "\n",
        "\n",
        "#count the frequency of each pair of books.\n",
        "paircounts=sequences[[\"book_id_x\", \"book_id_y\", \"user_id\"]].groupby([\"book_id_x\", \"book_id_y\"]).count()\n",
        "\n",
        "#sort by the most popular pairs.\n",
        "pairswithcounts = paircounts.reset_index().rename(columns={\"user_id\" : \"rating_counts\"}).sort_values(['rating_counts'], ascending=False)\n",
        "\n",
        "#display the top most frequent pairs\n",
        "\n",
        "#lift of all pairs\n",
        "bookCounts = positives.groupby([\"book_id\"]).count()[[\"user_id\"]].reset_index().rename(columns={\"user_id\" : \"ratingCount\"})\n",
        "\n",
        "#puts all the information in the sample dataframe.\n",
        "allstats = pairswithcounts.merge(bookCounts, left_on=\"book_id_x\", right_on=\"book_id\").merge(bookCounts, left_on=\"book_id_y\", right_on=\"book_id\")\n",
        "\n",
        "# drop out some unused columns\n",
        "allstats = allstats[[\"book_id_x\",\t\"book_id_y\",\t\"rating_counts\", \"ratingCount_x\", \"ratingCount_y\"]]\n",
        "allstats = allstats.loc[:,~allstats.columns.duplicated()]\n",
        "\n",
        "#calculate probabilites we need a denominator\n",
        "num=float(ratings_df.count()[\"rating\"])\n",
        "\n",
        "# perform artihmetic on columns\n",
        "allstats[\"lift\"] = (allstats[\"rating_counts\"] / num ) / ( (allstats[\"ratingCount_x\"] / num) * (allstats[\"ratingCount_y\"] / num))\n",
        "allstats.head()\n"
      ],
      "execution_count": 0,
      "outputs": [
        {
          "output_type": "execute_result",
          "data": {
            "text/html": [
              "<div>\n",
              "<style scoped>\n",
              "    .dataframe tbody tr th:only-of-type {\n",
              "        vertical-align: middle;\n",
              "    }\n",
              "\n",
              "    .dataframe tbody tr th {\n",
              "        vertical-align: top;\n",
              "    }\n",
              "\n",
              "    .dataframe thead th {\n",
              "        text-align: right;\n",
              "    }\n",
              "</style>\n",
              "<table border=\"1\" class=\"dataframe\">\n",
              "  <thead>\n",
              "    <tr style=\"text-align: right;\">\n",
              "      <th></th>\n",
              "      <th>book_id_x</th>\n",
              "      <th>book_id_y</th>\n",
              "      <th>rating_counts</th>\n",
              "      <th>ratingCount_x</th>\n",
              "      <th>ratingCount_y</th>\n",
              "      <th>lift</th>\n",
              "    </tr>\n",
              "  </thead>\n",
              "  <tbody>\n",
              "    <tr>\n",
              "      <th>0</th>\n",
              "      <td>1</td>\n",
              "      <td>17</td>\n",
              "      <td>277</td>\n",
              "      <td>502</td>\n",
              "      <td>365</td>\n",
              "      <td>188.610348</td>\n",
              "    </tr>\n",
              "    <tr>\n",
              "      <th>1</th>\n",
              "      <td>2</td>\n",
              "      <td>17</td>\n",
              "      <td>84</td>\n",
              "      <td>399</td>\n",
              "      <td>365</td>\n",
              "      <td>71.960779</td>\n",
              "    </tr>\n",
              "    <tr>\n",
              "      <th>2</th>\n",
              "      <td>4</td>\n",
              "      <td>17</td>\n",
              "      <td>93</td>\n",
              "      <td>528</td>\n",
              "      <td>365</td>\n",
              "      <td>60.205822</td>\n",
              "    </tr>\n",
              "    <tr>\n",
              "      <th>3</th>\n",
              "      <td>5</td>\n",
              "      <td>17</td>\n",
              "      <td>76</td>\n",
              "      <td>395</td>\n",
              "      <td>365</td>\n",
              "      <td>65.766686</td>\n",
              "    </tr>\n",
              "    <tr>\n",
              "      <th>4</th>\n",
              "      <td>16</td>\n",
              "      <td>17</td>\n",
              "      <td>108</td>\n",
              "      <td>306</td>\n",
              "      <td>365</td>\n",
              "      <td>120.640129</td>\n",
              "    </tr>\n",
              "  </tbody>\n",
              "</table>\n",
              "</div>"
            ],
            "text/plain": [
              "   book_id_x  book_id_y  ...  ratingCount_y        lift\n",
              "0          1         17  ...            365  188.610348\n",
              "1          2         17  ...            365   71.960779\n",
              "2          4         17  ...            365   60.205822\n",
              "3          5         17  ...            365   65.766686\n",
              "4         16         17  ...            365  120.640129\n",
              "\n",
              "[5 rows x 6 columns]"
            ]
          },
          "metadata": {
            "tags": []
          },
          "execution_count": 86
        }
      ]
    },
    {
      "cell_type": "code",
      "metadata": {
        "id": "dLxNXTAIYT8T",
        "colab_type": "code",
        "outputId": "5c9a9a52-04f4-4f0e-9e96-ec0e4717e014",
        "colab": {
          "base_uri": "https://localhost:8080/",
          "height": 34
        }
      },
      "source": [
        "#recommender where the score for each target recommended item is\n",
        "#the sum of the log (lift) between positively rated items in the user profile (rating ≥ 4) and the target item\n",
        "import math\n",
        "\n",
        "class liftBased_Recommender :\n",
        "  \n",
        "  def __init__(self, ratedBookslst, allstatsMap):\n",
        "      self.ratedBookslst = ratedBookslst\n",
        "      self.allstatsMap = allstatsMap\n",
        "\n",
        "  def predict(self, uid) :\n",
        "    #get all the books which are rated by the user and convert to a list\n",
        "    userRated = ratings_df[ratings_df[\"user_id\"] == uid_rev_map[uid]]\n",
        "    userRatedlst = userRated[\"book_id\"].to_list()\n",
        "    #get all the positively rated books which are rated by the user and convert to a list\n",
        "    positives = userRated[userRated.rating >= 4]\n",
        "    positiveBooks = positives[\"book_id\"].to_list()\n",
        "    result = []\n",
        "    \n",
        "    #loop through all rated books\n",
        "    #if book not found in user rated list \n",
        "      #loop on the positiveBooks and calculate the log(lift) of all the pairs using the dictionary allstatsMap\n",
        "    for curr_id in self.ratedBookslst :\n",
        "      sumLogLift = 0\n",
        "      if curr_id not in userRatedlst :\n",
        "        for j in positiveBooks :\n",
        "          key = (min(curr_id, j), max(curr_id, j))\n",
        "          if key in self.allstatsMap:\n",
        "            logLift = math.log(self.allstatsMap[key])\n",
        "            sumLogLift += logLift\n",
        "        result.append(sumLogLift)\n",
        "      else :\n",
        "        result.append(0)\n",
        "        \n",
        "    return np.array(result)\n",
        "\n",
        "#convert the allstats df to a dictionary to minimize the use of df in the loop\n",
        "allstatsMap = allstats[['book_id_x', 'book_id_y', 'lift']].set_index(['book_id_x', 'book_id_y'])[\"lift\"].to_dict()\n",
        "#get all rated books and convert to a list\n",
        "ratedBooks = ratings_df.groupby([\"book_id\"], sort=False).mean().reset_index()\n",
        "ratedBookslst = ratedBooks[\"book_id\"].to_list()\n",
        "#print the mmr score\n",
        "print(mrr_score(liftBased_Recommender(ratedBookslst, allstatsMap), test_dataset, train=rating_dataset, k=100).mean())"
      ],
      "execution_count": 0,
      "outputs": [
        {
          "output_type": "stream",
          "text": [
            "0.3631263802992653\n"
          ],
          "name": "stdout"
        }
      ]
    },
    {
      "cell_type": "code",
      "metadata": {
        "id": "D8Q9ZdNe6gwP",
        "colab_type": "code",
        "outputId": "57ff9480-50ef-463b-b8a2-b3f0230efbfd",
        "colab": {
          "base_uri": "https://localhost:8080/",
          "height": 419
        }
      },
      "source": [
        "allstats"
      ],
      "execution_count": 0,
      "outputs": [
        {
          "output_type": "execute_result",
          "data": {
            "text/html": [
              "<div>\n",
              "<style scoped>\n",
              "    .dataframe tbody tr th:only-of-type {\n",
              "        vertical-align: middle;\n",
              "    }\n",
              "\n",
              "    .dataframe tbody tr th {\n",
              "        vertical-align: top;\n",
              "    }\n",
              "\n",
              "    .dataframe thead th {\n",
              "        text-align: right;\n",
              "    }\n",
              "</style>\n",
              "<table border=\"1\" class=\"dataframe\">\n",
              "  <thead>\n",
              "    <tr style=\"text-align: right;\">\n",
              "      <th></th>\n",
              "      <th>book_id_x</th>\n",
              "      <th>book_id_y</th>\n",
              "      <th>rating_counts</th>\n",
              "      <th>ratingCount_x</th>\n",
              "      <th>ratingCount_y</th>\n",
              "      <th>lift</th>\n",
              "    </tr>\n",
              "  </thead>\n",
              "  <tbody>\n",
              "    <tr>\n",
              "      <th>0</th>\n",
              "      <td>1</td>\n",
              "      <td>17</td>\n",
              "      <td>277</td>\n",
              "      <td>502</td>\n",
              "      <td>365</td>\n",
              "      <td>188.610348</td>\n",
              "    </tr>\n",
              "    <tr>\n",
              "      <th>1</th>\n",
              "      <td>2</td>\n",
              "      <td>17</td>\n",
              "      <td>84</td>\n",
              "      <td>399</td>\n",
              "      <td>365</td>\n",
              "      <td>71.960779</td>\n",
              "    </tr>\n",
              "    <tr>\n",
              "      <th>2</th>\n",
              "      <td>4</td>\n",
              "      <td>17</td>\n",
              "      <td>93</td>\n",
              "      <td>528</td>\n",
              "      <td>365</td>\n",
              "      <td>60.205822</td>\n",
              "    </tr>\n",
              "    <tr>\n",
              "      <th>3</th>\n",
              "      <td>5</td>\n",
              "      <td>17</td>\n",
              "      <td>76</td>\n",
              "      <td>395</td>\n",
              "      <td>365</td>\n",
              "      <td>65.766686</td>\n",
              "    </tr>\n",
              "    <tr>\n",
              "      <th>4</th>\n",
              "      <td>16</td>\n",
              "      <td>17</td>\n",
              "      <td>108</td>\n",
              "      <td>306</td>\n",
              "      <td>365</td>\n",
              "      <td>120.640129</td>\n",
              "    </tr>\n",
              "    <tr>\n",
              "      <th>...</th>\n",
              "      <td>...</td>\n",
              "      <td>...</td>\n",
              "      <td>...</td>\n",
              "      <td>...</td>\n",
              "      <td>...</td>\n",
              "      <td>...</td>\n",
              "    </tr>\n",
              "    <tr>\n",
              "      <th>538502</th>\n",
              "      <td>371</td>\n",
              "      <td>1840</td>\n",
              "      <td>1</td>\n",
              "      <td>42</td>\n",
              "      <td>1</td>\n",
              "      <td>2970.523810</td>\n",
              "    </tr>\n",
              "    <tr>\n",
              "      <th>538503</th>\n",
              "      <td>841</td>\n",
              "      <td>1840</td>\n",
              "      <td>1</td>\n",
              "      <td>10</td>\n",
              "      <td>1</td>\n",
              "      <td>12476.200000</td>\n",
              "    </tr>\n",
              "    <tr>\n",
              "      <th>538504</th>\n",
              "      <td>980</td>\n",
              "      <td>1840</td>\n",
              "      <td>1</td>\n",
              "      <td>9</td>\n",
              "      <td>1</td>\n",
              "      <td>13862.444444</td>\n",
              "    </tr>\n",
              "    <tr>\n",
              "      <th>538505</th>\n",
              "      <td>433</td>\n",
              "      <td>1840</td>\n",
              "      <td>1</td>\n",
              "      <td>7</td>\n",
              "      <td>1</td>\n",
              "      <td>17823.142857</td>\n",
              "    </tr>\n",
              "    <tr>\n",
              "      <th>538506</th>\n",
              "      <td>1690</td>\n",
              "      <td>1840</td>\n",
              "      <td>1</td>\n",
              "      <td>15</td>\n",
              "      <td>1</td>\n",
              "      <td>8317.466667</td>\n",
              "    </tr>\n",
              "  </tbody>\n",
              "</table>\n",
              "<p>538507 rows × 6 columns</p>\n",
              "</div>"
            ],
            "text/plain": [
              "        book_id_x  book_id_y  ...  ratingCount_y          lift\n",
              "0               1         17  ...            365    188.610348\n",
              "1               2         17  ...            365     71.960779\n",
              "2               4         17  ...            365     60.205822\n",
              "3               5         17  ...            365     65.766686\n",
              "4              16         17  ...            365    120.640129\n",
              "...           ...        ...  ...            ...           ...\n",
              "538502        371       1840  ...              1   2970.523810\n",
              "538503        841       1840  ...              1  12476.200000\n",
              "538504        980       1840  ...              1  13862.444444\n",
              "538505        433       1840  ...              1  17823.142857\n",
              "538506       1690       1840  ...              1   8317.466667\n",
              "\n",
              "[538507 rows x 6 columns]"
            ]
          },
          "metadata": {
            "tags": []
          },
          "execution_count": 88
        }
      ]
    },
    {
      "cell_type": "code",
      "metadata": {
        "id": "pz1LTJSelXUQ",
        "colab_type": "code",
        "outputId": "f82a639d-a74c-4379-df35-e2519e54d73b",
        "colab": {
          "base_uri": "https://localhost:8080/",
          "height": 68
        }
      },
      "source": [
        "#find minimum Support Count threshold \n",
        "thresholds = [2,3,10,20,40]\n",
        "best_score = 0\n",
        "minumum_count = 0\n",
        "best_pair = 0\n",
        "threshold_score = {}\n",
        "ratedBooks = ratings_df.groupby([\"book_id\"], sort=False).mean().reset_index()\n",
        "ratedBookslst = ratedBooks[\"book_id\"].to_list()\n",
        "\n",
        "#loop through the thresholds\n",
        "#filter the allstats df to get all the pairs having rating_counts more than the threshold\n",
        "#find the best score and the minumum count support \n",
        "for i in thresholds : \n",
        "  allstatsRating = allstats[allstats.rating_counts >= i]\n",
        "  allstatsMap = allstatsRating[['book_id_x', 'book_id_y', 'lift']].set_index(['book_id_x', 'book_id_y'])[\"lift\"].to_dict()\n",
        "  # print(len(allstatsMap))\n",
        "  score = mrr_score(liftBased_Recommender(ratedBookslst, allstatsMap), validation, train=rating_dataset, k=100).mean()\n",
        "  threshold_score[i] = score\n",
        "  if(score >= best_score) :\n",
        "    best_score = score\n",
        "    minumum_count = i\n",
        "    best_pair = allstatsMap\n",
        "\n",
        "print('minumum_count ', minumum_count)\n",
        "print('best_score ', score)\n",
        "#print the mrr score on the pair obtained on the test set\n",
        "print(mrr_score(liftBased_Recommender(ratedBookslst, best_pair), test_dataset, train=rating_dataset, k=100).mean())"
      ],
      "execution_count": 0,
      "outputs": [
        {
          "output_type": "stream",
          "text": [
            "minumum_count  2\n",
            "best_score  0.012527199014575049\n",
            "0.4015039235776294\n"
          ],
          "name": "stdout"
        }
      ]
    },
    {
      "cell_type": "code",
      "metadata": {
        "id": "dZPR39SnCJuF",
        "colab_type": "code",
        "outputId": "223120fc-84d7-48ab-8023-51d39cdb9ca6",
        "colab": {
          "base_uri": "https://localhost:8080/",
          "height": 102
        }
      },
      "source": [
        "threshold_score"
      ],
      "execution_count": 0,
      "outputs": [
        {
          "output_type": "execute_result",
          "data": {
            "text/plain": [
              "{2: 0.01677277878252574,\n",
              " 3: 0.014992784188318186,\n",
              " 10: 0.01560800266248275,\n",
              " 20: 0.013609901531196338,\n",
              " 40: 0.012527199014575049}"
            ]
          },
          "metadata": {
            "tags": []
          },
          "execution_count": 90
        }
      ]
    },
    {
      "cell_type": "code",
      "metadata": {
        "id": "hB9VZ4LmCaWW",
        "colab_type": "code",
        "outputId": "534c986b-7c89-4508-b545-98ae2d647110",
        "colab": {
          "base_uri": "https://localhost:8080/",
          "height": 279
        }
      },
      "source": [
        "#plot how MRR responds to adjustments in the minimum Support Count threshold\n",
        "# from google.colab import files\n",
        "plt.plot(list(threshold_score.keys()),list(threshold_score.values()))\n",
        "plt.ylabel('MMR Score')\n",
        "plt.xlabel('Threshold')\n",
        "plt.grid(True)\n",
        "# plt.savefig(\"mmr.png\")\n",
        "# files.download(\"mmr.png\")\n",
        "plt.show()"
      ],
      "execution_count": 0,
      "outputs": [
        {
          "output_type": "display_data",
          "data": {
            "image/png": "[encoded data removed]",
            "text/plain": [
              "<Figure size 432x288 with 1 Axes>"
            ]
          },
          "metadata": {
            "tags": []
          }
        }
      ]
    },
    {
      "cell_type": "markdown",
      "metadata": {
        "id": "jtEA1bsXIvex",
        "colab_type": "text"
      },
      "source": [
        "#Q6"
      ]
    },
    {
      "cell_type": "code",
      "metadata": {
        "id": "Hs3w_gqbIyT0",
        "colab_type": "code",
        "outputId": "cfcf700b-3e8d-4c8d-c8f8-12c797f2b187",
        "colab": {
          "base_uri": "https://localhost:8080/",
          "height": 34
        }
      },
      "source": [
        "#combine the outputs of Questions 1, 2, 3 & 5 using a weighted CombSum score \n",
        "class CombSumCombination :\n",
        "  def predict(self, uid) :\n",
        "    weight = [0.9, 1, 0.5]\n",
        "    #use best_pair obtained from the minimum Support threshold\n",
        "    q5Model = liftBased_Recommender(ratedBookslst, best_pair)\n",
        "\n",
        "    #normalize the models\n",
        "    q2_norm = preprocessing.normalize([best_model_Q2.predict(uid)]).flatten()\n",
        "    q3_norm = preprocessing.normalize([best_model_Q3.predict(uid)]).flatten()\n",
        "    q5_norm = preprocessing.normalize([q5Model.predict(uid)]).flatten()\n",
        "\n",
        "    #multiply by the weight\n",
        "    q2BestRank = np.multiply(q2_norm,weight[0])\n",
        "    q3BestRank = np.multiply(q3_norm,weight[1])\n",
        "    q5BestRank = np.multiply(q5_norm,weight[2])\n",
        "\n",
        "    return np.add(q2BestRank, q3BestRank, q5BestRank)\n",
        "\n",
        "#print the mmr score\n",
        "print(mrr_score(CombSumCombination(), test_dataset, train=rating_dataset, k=100).mean())"
      ],
      "execution_count": 0,
      "outputs": [
        {
          "output_type": "stream",
          "text": [
            "0.41590256200060455\n"
          ],
          "name": "stdout"
        }
      ]
    },
    {
      "cell_type": "code",
      "metadata": {
        "id": "1mdT2IbEy_q-",
        "colab_type": "code",
        "outputId": "1f1d384b-251a-4bb5-886f-3009ce5ee95a",
        "colab": {
          "base_uri": "https://localhost:8080/",
          "height": 34
        }
      },
      "source": [
        "#combine the outputs of Questions 2, 3 & 5 using a different combination of weight \n",
        "class CombSumCombination :\n",
        "  def predict(self, uid) :\n",
        "    weight = [1, 0.7, 0.7]\n",
        "    #use best_pair obtained from the minimum Support threshold\n",
        "    q5Model = liftBased_Recommender(ratedBookslst, best_pair)\n",
        "\n",
        "    #normalize the models\n",
        "    q2_norm = preprocessing.normalize([best_model_Q2.predict(uid)]).flatten()\n",
        "    q3_norm = preprocessing.normalize([best_model_Q3.predict(uid)]).flatten()\n",
        "    q5_norm = preprocessing.normalize([q5Model.predict(uid)]).flatten()\n",
        "\n",
        "    #multiply by the weight\n",
        "    q2BestRank = np.multiply(q2_norm,weight[0])\n",
        "    q3BestRank = np.multiply(q3_norm,weight[1])\n",
        "    q5BestRank = np.multiply(q5_norm,weight[2])\n",
        "\n",
        "    return np.add(q2BestRank, q3BestRank, q5BestRank)\n",
        "\n",
        "#print the mmr score\n",
        "print(mrr_score(CombSumCombination(), test_dataset, train=rating_dataset, k=100).mean())"
      ],
      "execution_count": 0,
      "outputs": [
        {
          "output_type": "stream",
          "text": [
            "0.419619502209745\n"
          ],
          "name": "stdout"
        }
      ]
    }
  ]
}